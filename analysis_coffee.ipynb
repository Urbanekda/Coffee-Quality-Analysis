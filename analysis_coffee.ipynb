{
 "cells": [
  {
   "cell_type": "markdown",
   "metadata": {},
   "source": [
    "# Coffee Quality Data Analysis\n",
    "\n",
    "The analyzed dataset contains coffee quality data scraped from the Coffee Quality Institute (CQI) from May 2023. Dataset has been imported from [Kaggle](https://www.kaggle.com/datasets/fatihb/coffee-quality-data-cqi).\n",
    "\n",
    "**Analysis wordcount**: 406"
   ]
  },
  {
   "cell_type": "code",
   "execution_count": 140,
   "metadata": {},
   "outputs": [
    {
     "data": {
      "text/html": [
       "<div>\n",
       "<style scoped>\n",
       "    .dataframe tbody tr th:only-of-type {\n",
       "        vertical-align: middle;\n",
       "    }\n",
       "\n",
       "    .dataframe tbody tr th {\n",
       "        vertical-align: top;\n",
       "    }\n",
       "\n",
       "    .dataframe thead th {\n",
       "        text-align: right;\n",
       "    }\n",
       "</style>\n",
       "<table border=\"1\" class=\"dataframe\">\n",
       "  <thead>\n",
       "    <tr style=\"text-align: right;\">\n",
       "      <th></th>\n",
       "      <th>Unnamed: 0</th>\n",
       "      <th>ID</th>\n",
       "      <th>Country of Origin</th>\n",
       "      <th>Farm Name</th>\n",
       "      <th>Lot Number</th>\n",
       "      <th>Mill</th>\n",
       "      <th>ICO Number</th>\n",
       "      <th>Company</th>\n",
       "      <th>Altitude</th>\n",
       "      <th>Region</th>\n",
       "      <th>...</th>\n",
       "      <th>Total Cup Points</th>\n",
       "      <th>Moisture Percentage</th>\n",
       "      <th>Category One Defects</th>\n",
       "      <th>Quakers</th>\n",
       "      <th>Color</th>\n",
       "      <th>Category Two Defects</th>\n",
       "      <th>Expiration</th>\n",
       "      <th>Certification Body</th>\n",
       "      <th>Certification Address</th>\n",
       "      <th>Certification Contact</th>\n",
       "    </tr>\n",
       "  </thead>\n",
       "  <tbody>\n",
       "    <tr>\n",
       "      <th>0</th>\n",
       "      <td>0</td>\n",
       "      <td>0</td>\n",
       "      <td>Colombia</td>\n",
       "      <td>Finca El Paraiso</td>\n",
       "      <td>CQU2022015</td>\n",
       "      <td>Finca El Paraiso</td>\n",
       "      <td>NaN</td>\n",
       "      <td>Coffee Quality Union</td>\n",
       "      <td>1700-1930</td>\n",
       "      <td>Piendamo,Cauca</td>\n",
       "      <td>...</td>\n",
       "      <td>89.33</td>\n",
       "      <td>11.8</td>\n",
       "      <td>0</td>\n",
       "      <td>0</td>\n",
       "      <td>green</td>\n",
       "      <td>3</td>\n",
       "      <td>September 21st, 2023</td>\n",
       "      <td>Japan Coffee Exchange</td>\n",
       "      <td>〒413-0002 静岡県熱海市伊豆山１１７３−５８ 1173-58 Izusan, Ata...</td>\n",
       "      <td>松澤　宏樹　Koju Matsuzawa - +81(0)9085642901</td>\n",
       "    </tr>\n",
       "    <tr>\n",
       "      <th>1</th>\n",
       "      <td>1</td>\n",
       "      <td>1</td>\n",
       "      <td>Taiwan</td>\n",
       "      <td>Royal Bean Geisha Estate</td>\n",
       "      <td>The 2022 Pacific Rim Coffee Summit,T037</td>\n",
       "      <td>Royal Bean Geisha Estate</td>\n",
       "      <td>NaN</td>\n",
       "      <td>Taiwan Coffee Laboratory</td>\n",
       "      <td>1200</td>\n",
       "      <td>Chiayi</td>\n",
       "      <td>...</td>\n",
       "      <td>87.58</td>\n",
       "      <td>10.5</td>\n",
       "      <td>0</td>\n",
       "      <td>0</td>\n",
       "      <td>blue-green</td>\n",
       "      <td>0</td>\n",
       "      <td>November 15th, 2023</td>\n",
       "      <td>Taiwan Coffee Laboratory 台灣咖啡研究室</td>\n",
       "      <td>QAHWAH CO., LTD 4F, No. 225, Sec. 3, Beixin Rd...</td>\n",
       "      <td>Lin, Jen-An Neil 林仁安 - 886-289116612</td>\n",
       "    </tr>\n",
       "    <tr>\n",
       "      <th>2</th>\n",
       "      <td>2</td>\n",
       "      <td>2</td>\n",
       "      <td>Laos</td>\n",
       "      <td>OKLAO coffee farms</td>\n",
       "      <td>The 2022 Pacific Rim Coffee Summit,LA01</td>\n",
       "      <td>oklao coffee processing plant</td>\n",
       "      <td>NaN</td>\n",
       "      <td>Taiwan Coffee Laboratory</td>\n",
       "      <td>1300</td>\n",
       "      <td>Laos Borofen Plateau</td>\n",
       "      <td>...</td>\n",
       "      <td>87.42</td>\n",
       "      <td>10.4</td>\n",
       "      <td>0</td>\n",
       "      <td>0</td>\n",
       "      <td>yellowish</td>\n",
       "      <td>2</td>\n",
       "      <td>November 15th, 2023</td>\n",
       "      <td>Taiwan Coffee Laboratory 台灣咖啡研究室</td>\n",
       "      <td>QAHWAH CO., LTD 4F, No. 225, Sec. 3, Beixin Rd...</td>\n",
       "      <td>Lin, Jen-An Neil 林仁安 - 886-289116612</td>\n",
       "    </tr>\n",
       "    <tr>\n",
       "      <th>3</th>\n",
       "      <td>3</td>\n",
       "      <td>3</td>\n",
       "      <td>Costa Rica</td>\n",
       "      <td>La Cumbre</td>\n",
       "      <td>CQU2022017</td>\n",
       "      <td>La Montana Tarrazu MIll</td>\n",
       "      <td>NaN</td>\n",
       "      <td>Coffee Quality Union</td>\n",
       "      <td>1900</td>\n",
       "      <td>Los Santos,Tarrazu</td>\n",
       "      <td>...</td>\n",
       "      <td>87.17</td>\n",
       "      <td>11.8</td>\n",
       "      <td>0</td>\n",
       "      <td>0</td>\n",
       "      <td>green</td>\n",
       "      <td>0</td>\n",
       "      <td>September 21st, 2023</td>\n",
       "      <td>Japan Coffee Exchange</td>\n",
       "      <td>〒413-0002 静岡県熱海市伊豆山１１７３−５８ 1173-58 Izusan, Ata...</td>\n",
       "      <td>松澤　宏樹　Koju Matsuzawa - +81(0)9085642901</td>\n",
       "    </tr>\n",
       "    <tr>\n",
       "      <th>4</th>\n",
       "      <td>4</td>\n",
       "      <td>4</td>\n",
       "      <td>Colombia</td>\n",
       "      <td>Finca Santuario</td>\n",
       "      <td>CQU2023002</td>\n",
       "      <td>Finca Santuario</td>\n",
       "      <td>NaN</td>\n",
       "      <td>Coffee Quality Union</td>\n",
       "      <td>1850-2100</td>\n",
       "      <td>Popayan,Cauca</td>\n",
       "      <td>...</td>\n",
       "      <td>87.08</td>\n",
       "      <td>11.6</td>\n",
       "      <td>0</td>\n",
       "      <td>2</td>\n",
       "      <td>yellow-green</td>\n",
       "      <td>2</td>\n",
       "      <td>March 5th, 2024</td>\n",
       "      <td>Japan Coffee Exchange</td>\n",
       "      <td>〒413-0002 静岡県熱海市伊豆山１１７３−５８ 1173-58 Izusan, Ata...</td>\n",
       "      <td>松澤　宏樹　Koju Matsuzawa - +81(0)9085642901</td>\n",
       "    </tr>\n",
       "    <tr>\n",
       "      <th>...</th>\n",
       "      <td>...</td>\n",
       "      <td>...</td>\n",
       "      <td>...</td>\n",
       "      <td>...</td>\n",
       "      <td>...</td>\n",
       "      <td>...</td>\n",
       "      <td>...</td>\n",
       "      <td>...</td>\n",
       "      <td>...</td>\n",
       "      <td>...</td>\n",
       "      <td>...</td>\n",
       "      <td>...</td>\n",
       "      <td>...</td>\n",
       "      <td>...</td>\n",
       "      <td>...</td>\n",
       "      <td>...</td>\n",
       "      <td>...</td>\n",
       "      <td>...</td>\n",
       "      <td>...</td>\n",
       "      <td>...</td>\n",
       "      <td>...</td>\n",
       "    </tr>\n",
       "    <tr>\n",
       "      <th>202</th>\n",
       "      <td>202</td>\n",
       "      <td>202</td>\n",
       "      <td>Brazil</td>\n",
       "      <td>Fazenda Conquista</td>\n",
       "      <td>019/22</td>\n",
       "      <td>Dry Mill</td>\n",
       "      <td>NaN</td>\n",
       "      <td>Ipanema Coffees</td>\n",
       "      <td>950</td>\n",
       "      <td>Sul de Minas</td>\n",
       "      <td>...</td>\n",
       "      <td>80.08</td>\n",
       "      <td>11.4</td>\n",
       "      <td>0</td>\n",
       "      <td>0</td>\n",
       "      <td>green</td>\n",
       "      <td>4</td>\n",
       "      <td>February 2nd, 2024</td>\n",
       "      <td>Brazil Specialty Coffee Association</td>\n",
       "      <td>Rua Gaspar Batista Paiva, 416 – Santa Luiza Va...</td>\n",
       "      <td>Chris Allen - 55 35 3212-4705</td>\n",
       "    </tr>\n",
       "    <tr>\n",
       "      <th>203</th>\n",
       "      <td>203</td>\n",
       "      <td>203</td>\n",
       "      <td>Nicaragua</td>\n",
       "      <td>Finca San Felipe</td>\n",
       "      <td>017-053-0155</td>\n",
       "      <td>Beneficio Atlantic Sébaco</td>\n",
       "      <td>017-053-0155</td>\n",
       "      <td>Exportadora Atlantic S.A</td>\n",
       "      <td>1200</td>\n",
       "      <td>Matagalpa</td>\n",
       "      <td>...</td>\n",
       "      <td>80.00</td>\n",
       "      <td>10.4</td>\n",
       "      <td>0</td>\n",
       "      <td>2</td>\n",
       "      <td>green</td>\n",
       "      <td>12</td>\n",
       "      <td>March 2nd, 2024</td>\n",
       "      <td>Asociación de Cafés Especiales de Nicaragua</td>\n",
       "      <td>Del Hotel Seminole 2 C al lago, 1 C arriba.</td>\n",
       "      <td>Maria Ines Benavidez Toval - 011-(505)-8396 4717</td>\n",
       "    </tr>\n",
       "    <tr>\n",
       "      <th>204</th>\n",
       "      <td>204</td>\n",
       "      <td>204</td>\n",
       "      <td>Laos</td>\n",
       "      <td>-</td>\n",
       "      <td>105/3/VL7285-005</td>\n",
       "      <td>DRY MILL</td>\n",
       "      <td>105/3/VL7285-005</td>\n",
       "      <td>Marubeni Corporation</td>\n",
       "      <td>1300</td>\n",
       "      <td>Bolaven Plateau</td>\n",
       "      <td>...</td>\n",
       "      <td>79.67</td>\n",
       "      <td>11.6</td>\n",
       "      <td>0</td>\n",
       "      <td>9</td>\n",
       "      <td>green</td>\n",
       "      <td>11</td>\n",
       "      <td>November 11th, 2023</td>\n",
       "      <td>Japan Coffee Exchange</td>\n",
       "      <td>〒413-0002 静岡県熱海市伊豆山１１７３−５８ 1173-58 Izusan, Ata...</td>\n",
       "      <td>松澤　宏樹　Koju Matsuzawa - +81(0)9085642901</td>\n",
       "    </tr>\n",
       "    <tr>\n",
       "      <th>205</th>\n",
       "      <td>205</td>\n",
       "      <td>205</td>\n",
       "      <td>El Salvador</td>\n",
       "      <td>Rosario de Maria II, Area de La Pila</td>\n",
       "      <td>0423A01</td>\n",
       "      <td>Optimum Coffee, San Salvador, El Salvador</td>\n",
       "      <td>NaN</td>\n",
       "      <td>Aprentium Enterprises LLC</td>\n",
       "      <td>1200</td>\n",
       "      <td>Volcan de San Vicente, La Paz, El Salvador</td>\n",
       "      <td>...</td>\n",
       "      <td>78.08</td>\n",
       "      <td>11.0</td>\n",
       "      <td>0</td>\n",
       "      <td>12</td>\n",
       "      <td>bluish-green</td>\n",
       "      <td>13</td>\n",
       "      <td>March 7th, 2024</td>\n",
       "      <td>Salvadoran Coffee Council</td>\n",
       "      <td>Final 1a. Av. Norte y 13 Calle Pte., dentro de...</td>\n",
       "      <td>Tomas Bonilla - (503) 2505-6600</td>\n",
       "    </tr>\n",
       "    <tr>\n",
       "      <th>206</th>\n",
       "      <td>206</td>\n",
       "      <td>206</td>\n",
       "      <td>Brazil</td>\n",
       "      <td>Walter Matter</td>\n",
       "      <td>1058 y 1059</td>\n",
       "      <td>Beneficio humedo/seco</td>\n",
       "      <td>002/1208/1016</td>\n",
       "      <td>Descafeinadores Mexicano SA. de CV</td>\n",
       "      <td>850-1100</td>\n",
       "      <td>Minas Gerais</td>\n",
       "      <td>...</td>\n",
       "      <td>78.00</td>\n",
       "      <td>11.3</td>\n",
       "      <td>0</td>\n",
       "      <td>0</td>\n",
       "      <td>green</td>\n",
       "      <td>1</td>\n",
       "      <td>November 18th, 2023</td>\n",
       "      <td>Centro Agroecológico del Café A.C.</td>\n",
       "      <td>Instituto de Ecología A. C., Campus III Edific...</td>\n",
       "      <td>Stephany Escamilla Femat - Tel. +52 228 842180...</td>\n",
       "    </tr>\n",
       "  </tbody>\n",
       "</table>\n",
       "<p>207 rows × 41 columns</p>\n",
       "</div>"
      ],
      "text/plain": [
       "     Unnamed: 0   ID Country of Origin                             Farm Name  \\\n",
       "0             0    0          Colombia                      Finca El Paraiso   \n",
       "1             1    1            Taiwan              Royal Bean Geisha Estate   \n",
       "2             2    2              Laos                    OKLAO coffee farms   \n",
       "3             3    3        Costa Rica                             La Cumbre   \n",
       "4             4    4          Colombia                       Finca Santuario   \n",
       "..          ...  ...               ...                                   ...   \n",
       "202         202  202            Brazil                     Fazenda Conquista   \n",
       "203         203  203         Nicaragua                      Finca San Felipe   \n",
       "204         204  204              Laos                                     -   \n",
       "205         205  205       El Salvador  Rosario de Maria II, Area de La Pila   \n",
       "206         206  206            Brazil                         Walter Matter   \n",
       "\n",
       "                                  Lot Number  \\\n",
       "0                                 CQU2022015   \n",
       "1    The 2022 Pacific Rim Coffee Summit,T037   \n",
       "2    The 2022 Pacific Rim Coffee Summit,LA01   \n",
       "3                                 CQU2022017   \n",
       "4                                 CQU2023002   \n",
       "..                                       ...   \n",
       "202                                   019/22   \n",
       "203                             017-053-0155   \n",
       "204                         105/3/VL7285-005   \n",
       "205                                  0423A01   \n",
       "206                              1058 y 1059   \n",
       "\n",
       "                                          Mill        ICO Number  \\\n",
       "0                             Finca El Paraiso               NaN   \n",
       "1                     Royal Bean Geisha Estate               NaN   \n",
       "2                oklao coffee processing plant               NaN   \n",
       "3                      La Montana Tarrazu MIll               NaN   \n",
       "4                              Finca Santuario               NaN   \n",
       "..                                         ...               ...   \n",
       "202                                   Dry Mill               NaN   \n",
       "203                  Beneficio Atlantic Sébaco      017-053-0155   \n",
       "204                                   DRY MILL  105/3/VL7285-005   \n",
       "205  Optimum Coffee, San Salvador, El Salvador               NaN   \n",
       "206                      Beneficio humedo/seco     002/1208/1016   \n",
       "\n",
       "                                Company   Altitude  \\\n",
       "0                  Coffee Quality Union  1700-1930   \n",
       "1              Taiwan Coffee Laboratory       1200   \n",
       "2              Taiwan Coffee Laboratory       1300   \n",
       "3                  Coffee Quality Union       1900   \n",
       "4                  Coffee Quality Union  1850-2100   \n",
       "..                                  ...        ...   \n",
       "202                     Ipanema Coffees        950   \n",
       "203            Exportadora Atlantic S.A       1200   \n",
       "204                Marubeni Corporation       1300   \n",
       "205           Aprentium Enterprises LLC       1200   \n",
       "206  Descafeinadores Mexicano SA. de CV   850-1100   \n",
       "\n",
       "                                         Region  ... Total Cup Points  \\\n",
       "0                                Piendamo,Cauca  ...            89.33   \n",
       "1                                        Chiayi  ...            87.58   \n",
       "2                          Laos Borofen Plateau  ...            87.42   \n",
       "3                            Los Santos,Tarrazu  ...            87.17   \n",
       "4                                 Popayan,Cauca  ...            87.08   \n",
       "..                                          ...  ...              ...   \n",
       "202                                Sul de Minas  ...            80.08   \n",
       "203                                   Matagalpa  ...            80.00   \n",
       "204                             Bolaven Plateau  ...            79.67   \n",
       "205  Volcan de San Vicente, La Paz, El Salvador  ...            78.08   \n",
       "206                                Minas Gerais  ...            78.00   \n",
       "\n",
       "     Moisture Percentage Category One Defects Quakers         Color  \\\n",
       "0                   11.8                    0       0         green   \n",
       "1                   10.5                    0       0    blue-green   \n",
       "2                   10.4                    0       0     yellowish   \n",
       "3                   11.8                    0       0         green   \n",
       "4                   11.6                    0       2  yellow-green   \n",
       "..                   ...                  ...     ...           ...   \n",
       "202                 11.4                    0       0         green   \n",
       "203                 10.4                    0       2         green   \n",
       "204                 11.6                    0       9         green   \n",
       "205                 11.0                    0      12  bluish-green   \n",
       "206                 11.3                    0       0         green   \n",
       "\n",
       "    Category Two Defects            Expiration  \\\n",
       "0                      3  September 21st, 2023   \n",
       "1                      0   November 15th, 2023   \n",
       "2                      2   November 15th, 2023   \n",
       "3                      0  September 21st, 2023   \n",
       "4                      2       March 5th, 2024   \n",
       "..                   ...                   ...   \n",
       "202                    4    February 2nd, 2024   \n",
       "203                   12       March 2nd, 2024   \n",
       "204                   11   November 11th, 2023   \n",
       "205                   13       March 7th, 2024   \n",
       "206                    1   November 18th, 2023   \n",
       "\n",
       "                              Certification Body  \\\n",
       "0                          Japan Coffee Exchange   \n",
       "1               Taiwan Coffee Laboratory 台灣咖啡研究室   \n",
       "2               Taiwan Coffee Laboratory 台灣咖啡研究室   \n",
       "3                          Japan Coffee Exchange   \n",
       "4                          Japan Coffee Exchange   \n",
       "..                                           ...   \n",
       "202          Brazil Specialty Coffee Association   \n",
       "203  Asociación de Cafés Especiales de Nicaragua   \n",
       "204                        Japan Coffee Exchange   \n",
       "205                    Salvadoran Coffee Council   \n",
       "206           Centro Agroecológico del Café A.C.   \n",
       "\n",
       "                                 Certification Address  \\\n",
       "0    〒413-0002 静岡県熱海市伊豆山１１７３−５８ 1173-58 Izusan, Ata...   \n",
       "1    QAHWAH CO., LTD 4F, No. 225, Sec. 3, Beixin Rd...   \n",
       "2    QAHWAH CO., LTD 4F, No. 225, Sec. 3, Beixin Rd...   \n",
       "3    〒413-0002 静岡県熱海市伊豆山１１７３−５８ 1173-58 Izusan, Ata...   \n",
       "4    〒413-0002 静岡県熱海市伊豆山１１７３−５８ 1173-58 Izusan, Ata...   \n",
       "..                                                 ...   \n",
       "202  Rua Gaspar Batista Paiva, 416 – Santa Luiza Va...   \n",
       "203        Del Hotel Seminole 2 C al lago, 1 C arriba.   \n",
       "204  〒413-0002 静岡県熱海市伊豆山１１７３−５８ 1173-58 Izusan, Ata...   \n",
       "205  Final 1a. Av. Norte y 13 Calle Pte., dentro de...   \n",
       "206  Instituto de Ecología A. C., Campus III Edific...   \n",
       "\n",
       "                                 Certification Contact  \n",
       "0              松澤　宏樹　Koju Matsuzawa - +81(0)9085642901  \n",
       "1                 Lin, Jen-An Neil 林仁安 - 886-289116612  \n",
       "2                 Lin, Jen-An Neil 林仁安 - 886-289116612  \n",
       "3              松澤　宏樹　Koju Matsuzawa - +81(0)9085642901  \n",
       "4              松澤　宏樹　Koju Matsuzawa - +81(0)9085642901  \n",
       "..                                                 ...  \n",
       "202                      Chris Allen - 55 35 3212-4705  \n",
       "203   Maria Ines Benavidez Toval - 011-(505)-8396 4717  \n",
       "204            松澤　宏樹　Koju Matsuzawa - +81(0)9085642901  \n",
       "205                    Tomas Bonilla - (503) 2505-6600  \n",
       "206  Stephany Escamilla Femat - Tel. +52 228 842180...  \n",
       "\n",
       "[207 rows x 41 columns]"
      ]
     },
     "execution_count": 140,
     "metadata": {},
     "output_type": "execute_result"
    }
   ],
   "source": [
    "import pandas as pd\n",
    "import numpy as np\n",
    "import seaborn as sns\n",
    "import matplotlib.pyplot as plt\n",
    "import plotly.graph_objects as go\n",
    "\n",
    "\n",
    "# Load the data\n",
    "df = pd.read_csv(\"df_arabica.csv\")\n",
    "df"
   ]
  },
  {
   "cell_type": "markdown",
   "metadata": {},
   "source": [
    "In the initial code block data analytics and visualization libraries are imported. After that I load the dataset to a pandas dataframe from a csv file.\n",
    "\n",
    "I examine the data by invoking the dataframe to get a first outlook. This dataset has a lot of columns, some missing values and some unstandard values - some cleaning will be needed."
   ]
  },
  {
   "cell_type": "code",
   "execution_count": 141,
   "metadata": {},
   "outputs": [
    {
     "name": "stdout",
     "output_type": "stream",
     "text": [
      "Index(['Country of Origin', 'Altitude', 'Region', 'Harvest Year', 'Variety',\n",
      "       'Processing Method', 'Aroma', 'Flavor', 'Aftertaste', 'Acidity', 'Body',\n",
      "       'Balance', 'Uniformity', 'Clean Cup', 'Sweetness', 'Overall', 'Defects',\n",
      "       'Total Cup Points', 'Moisture Percentage', 'Category One Defects',\n",
      "       'Quakers', 'Color', 'Category Two Defects'],\n",
      "      dtype='object')\n"
     ]
    }
   ],
   "source": [
    "# Drop the columns that are not needed\n",
    "\n",
    "df_clean = df.drop([\"Certification Address\", \"Certification Body\", \"Expiration\", \"Certification Contact\", \"Lot Number\", \"Producer\", \"Bag Weight\", \"In-Country Partner\", \"Mill\", \"ICO Number\", \"Number of Bags\", \"Status\", \"Farm Name\", \"Company\", \"Unnamed: 0\", \"ID\", \"Owner\", \"Grading Date\"], axis=1)\n",
    "\n",
    "print(df_clean.columns)\n"
   ]
  },
  {
   "cell_type": "markdown",
   "metadata": {},
   "source": [
    "In this block I decided to drop some unuseful columns and cloned the dataframe into a new variable \"df_clean\" only keeping the useful columns. I printed the remaining columns to decide further course of analysis. The dataset contains a mix of numerical and categorical data."
   ]
  },
  {
   "cell_type": "code",
   "execution_count": 142,
   "metadata": {},
   "outputs": [
    {
     "name": "stdout",
     "output_type": "stream",
     "text": [
      "Country of Origin       0\n",
      "Altitude                1\n",
      "Region                  2\n",
      "Harvest Year            0\n",
      "Variety                 6\n",
      "Processing Method       5\n",
      "Aroma                   0\n",
      "Flavor                  0\n",
      "Aftertaste              0\n",
      "Acidity                 0\n",
      "Body                    0\n",
      "Balance                 0\n",
      "Uniformity              0\n",
      "Clean Cup               0\n",
      "Sweetness               0\n",
      "Overall                 0\n",
      "Defects                 0\n",
      "Total Cup Points        0\n",
      "Moisture Percentage     0\n",
      "Category One Defects    0\n",
      "Quakers                 0\n",
      "Color                   0\n",
      "Category Two Defects    0\n",
      "dtype: int64\n",
      "Country of Origin       0\n",
      "Altitude                0\n",
      "Region                  0\n",
      "Harvest Year            0\n",
      "Variety                 0\n",
      "Processing Method       0\n",
      "Aroma                   0\n",
      "Flavor                  0\n",
      "Aftertaste              0\n",
      "Acidity                 0\n",
      "Body                    0\n",
      "Balance                 0\n",
      "Uniformity              0\n",
      "Clean Cup               0\n",
      "Sweetness               0\n",
      "Overall                 0\n",
      "Defects                 0\n",
      "Total Cup Points        0\n",
      "Moisture Percentage     0\n",
      "Category One Defects    0\n",
      "Quakers                 0\n",
      "Color                   0\n",
      "Category Two Defects    0\n",
      "dtype: int64\n",
      "0\n"
     ]
    }
   ],
   "source": [
    "# Check for missing values\n",
    "\n",
    "print(df_clean.isna().sum())\n",
    "\n",
    "df_clean = df_clean.dropna()\n",
    "print(df_clean.isna().sum())\n",
    "\n",
    "# Check for duplicate rows\n",
    "\n",
    "print(df_clean.duplicated().sum())\n",
    "\n"
   ]
  },
  {
   "cell_type": "markdown",
   "metadata": {},
   "source": [
    "## Data Cleaning\n",
    "\n",
    "This block initiates the data cleaning step. I check for missing or null values using the .isna() method and then print the summary of missing values for each column. I decided to drop the rows with missing values because the dataset is sufficiently big and should not be affected by the removal.\n",
    "\n",
    "I also check for duplicate rows, but didn’t find any. Finally I print summary again to confirm that all missing values have been removed."
   ]
  },
  {
   "cell_type": "code",
   "execution_count": null,
   "metadata": {},
   "outputs": [
    {
     "data": {
      "text/plain": [
       "array(['castillo', 'gesha', 'java', 'red bourbon', 'sl34', 'bourbon',\n",
       "       'ethiopian heirlooms', 'caturra', 'mixed', 'typica', 'catimor',\n",
       "       'sl28', 'sl14', 'catuai', 'yellow bourbon', 'catrenic', 'pacamara',\n",
       "       'bourbon, caturra y catimor', 'bourbon sidra', 'sarchimor',\n",
       "       'parainema', 'shg', 'mundo novo', 'lempira', 'typica gesha',\n",
       "       'gayo', 'maragogype', 'santander', 'pacas'], dtype=object)"
      ]
     },
     "execution_count": 143,
     "metadata": {},
     "output_type": "execute_result"
    }
   ],
   "source": [
    "# Clean \"Country of Origin\" column\n",
    "\n",
    "df_clean[\"Country of Origin\"] = df_clean[\"Country of Origin\"].str.lower()\n",
    "df_clean[\"Country of Origin\"] = df_clean[\"Country of Origin\"].str.strip()\n",
    "\n",
    "\n",
    "# Clean \"Variety\" column\n",
    "\n",
    "df_clean[\"Variety\"] = df_clean[\"Variety\"].str.lower()\n",
    "df_clean[\"Variety\"] = df_clean[\"Variety\"].str.strip()\n",
    "\n",
    "\n",
    "# Replace duplicates or similar values with a single value\n",
    "\n",
    "variety_normalization = {\n",
    "    \"sl34+gesha\": \"sl34\",\n",
    "    \"wolishalo,kurume,dega\": \"mixed\",\n",
    "    \"castillo and colombia blend\": \"mixed\",\n",
    "    \"catimor,catuai,caturra,bourbon\": \"mixed\",\n",
    "    \"marsellesa, catuai, caturra & marsellesa, anacafe 14, catuai\": \"mixed\",\n",
    "    \"red bourbon,caturra\": \"caturra\",\n",
    "    \"bourbon, catimor, caturra, typica\": \"mixed\",\n",
    "    \"caturra-catuai\": \"caturra\",\n",
    "    \"sl28,sl34,ruiru11\": \"mixed\",\n",
    "    \"typica bourbon caturra catimor\": \"mixed\",\n",
    "    \"caturra,colombia,castillo\": \"mixed\",\n",
    "    \"castillo,caturra,bourbon\": \"mixed\",\n",
    "    \"catuai and mundo novo\": \"mixed\",\n",
    "    \"typica + sl34\": \"mixed\",\n",
    "    \"unknown\": \"mixed\",\n",
    "    \"nan\": \"mixed\",\n",
    "    \"jember,tim-tim,ateng\": \"mixed\",\n",
    "    \"unknow\": \"mixed\",\n",
    "    \"catucai\": \"catuai\",\n",
    "    \"yellow catuai\": \"catuai\",\n",
    "    \"castillo paraguaycito\": \"castillo\",\n",
    "}\n",
    "\n",
    "df_clean[\"Variety\"] = df_clean[\"Variety\"].replace(variety_normalization)\n",
    "\n",
    "df_clean[\"Variety\"].unique()\n"
   ]
  },
  {
   "cell_type": "markdown",
   "metadata": {},
   "source": [
    "### Country of Origin, Variety Cleaning and Normalization\n",
    "\n",
    "Here I look more closely at specific columns that I will be using later, such as \"Country of Origin\" and \"Variety\".\n",
    "\n",
    "I convert all strings to lowercase and strip them of any unwanted whitespaces.\n",
    "\n",
    "The \"Variety\" column contains a lot of unstandard and duplicate values - to solve this I create a dictionary where I replace unstandard expressions with clearer ones. I perform the replace and check unique values of the \"Variety\" column."
   ]
  },
  {
   "cell_type": "code",
   "execution_count": null,
   "metadata": {},
   "outputs": [
    {
     "data": {
      "text/plain": [
       "array(['anaerobic', 'washed', 'semi washed', 'honey', 'natural',\n",
       "       'carbonic maceration', 'wet-hulled'], dtype=object)"
      ]
     },
     "execution_count": 144,
     "metadata": {},
     "output_type": "execute_result"
    }
   ],
   "source": [
    "# Clean \"Processing Method\" column\n",
    "\n",
    "df_clean[\"Processing Method\"] = df_clean[\"Processing Method\"].str.lower()\n",
    "df_clean[\"Processing Method\"] = df_clean[\"Processing Method\"].str.strip()\n",
    "\n",
    "processing_method_normalization = {\n",
    "    \"natural / dry\": \"natural\",\n",
    "    \"natural\": \"natural\",\n",
    "    \"washed / wet\": \"washed\",\n",
    "    \"washed\": \"washed\",\n",
    "    \"pulped natural / honey\": \"honey\",\n",
    "    \"semi-lavado\": \"honey\",\n",
    "    \"wet hulling\": \"wet-hulled\",\n",
    "    \"double carbonic maceration / natural\": \"carbonic maceration\",\n",
    "    \"honey,mossto\": \"honey\",\n",
    "    \"nan\": \"other\",\n",
    "    \"anaerobico 1000h\": \"anaerobic\",\n",
    "    \"double anaerobic washed\": \"anaerobic\",\n",
    "}\n",
    "\n",
    "df_clean[\"Processing Method\"] = df_clean[\"Processing Method\"].replace(processing_method_normalization)\n",
    "\n",
    "df_clean[\"Processing Method\"].unique()"
   ]
  },
  {
   "cell_type": "markdown",
   "metadata": {},
   "source": [
    "### Processing Method Cleaning and Normalization\n",
    "\n",
    "Here I perform similar cleaning and normalization on the \"Processing Method\" column. Again some processing methods were unstandard or expressed with slight difference in the text. This normalization allows me to unify the \"Processing Method\" column and ulitimately achieve clearer results.\n",
    "\n",
    "Finally I checked the unique values of this column to confirm the results of cleaning and normalization. The normalization was succesful and now we have much less unique values to work with."
   ]
  },
  {
   "cell_type": "code",
   "execution_count": 145,
   "metadata": {},
   "outputs": [
    {
     "name": "stdout",
     "output_type": "stream",
     "text": [
      "    Altitude\n",
      "0     1815.0\n",
      "1     1200.0\n",
      "2     1300.0\n",
      "3     1900.0\n",
      "4     1975.0\n",
      "5     1668.0\n",
      "6     1250.0\n",
      "7     1200.0\n",
      "8     1250.0\n",
      "9     1550.0\n",
      "10    2000.0\n",
      "11    2000.0\n",
      "12    1250.0\n",
      "13    1950.0\n",
      "14    1850.0\n",
      "15    1100.0\n",
      "16    2000.0\n",
      "17    1300.0\n",
      "18    1200.0\n",
      "19    1585.0\n"
     ]
    }
   ],
   "source": [
    "# Convert and clean \"Altitude\" column\n",
    "df_clean[\"Altitude\"]\n",
    "\n",
    "# Altitude column needs to be converted to numerical values\n",
    "# A function to convert the Altitude column to a single number\n",
    "\n",
    "def convert_altitude(altitude_str):\n",
    "    try:\n",
    "        # If there's a range (contains '-')\n",
    "        if \"-\" in str(altitude_str):\n",
    "            # Split the range and convert to numbers\n",
    "            low, high = map(float, altitude_str.split(\"-\"))\n",
    "            # Return the mean\n",
    "            return (low + high) / 2\n",
    "        # If it's a single number\n",
    "        else:\n",
    "            return float(altitude_str)\n",
    "    except:\n",
    "        return None\n",
    "\n",
    "# Apply the conversion to the Altitude column\n",
    "df_clean[\"Altitude\"] = df_clean[\"Altitude\"].apply(convert_altitude)\n",
    "\n",
    "\n",
    "# Print some examples to verify\n",
    "print(df_clean[[\"Altitude\"]].head(20))"
   ]
  },
  {
   "cell_type": "markdown",
   "metadata": {},
   "source": [
    "### Altitude Column Cleaning and Transformation\n",
    "\n",
    "After examining the \"Altitude\" column I found out that it contains some numerical values formatted as a string (such as \"1700 - 900\") representing the range of altitudes where the coffees had grown. For further analysis, this column needs to be cleaned and converted to numerical values.\n",
    "\n",
    "I created a function that checks if there is a \"-\" symbol present in the values (this would mean it is a range). If there is a dash present, the function breaks the text into a low and high values, converts them to a float type and computes the mean of high and low value. This mean then replaces former range values and makes further analysis easier.\n",
    "\n",
    "In the end I printed some values from the \"Altitude\" column to check and verify that the fuction worked properly."
   ]
  },
  {
   "cell_type": "code",
   "execution_count": 146,
   "metadata": {},
   "outputs": [
    {
     "data": {
      "text/html": [
       "<div>\n",
       "<style scoped>\n",
       "    .dataframe tbody tr th:only-of-type {\n",
       "        vertical-align: middle;\n",
       "    }\n",
       "\n",
       "    .dataframe tbody tr th {\n",
       "        vertical-align: top;\n",
       "    }\n",
       "\n",
       "    .dataframe thead th {\n",
       "        text-align: right;\n",
       "    }\n",
       "</style>\n",
       "<table border=\"1\" class=\"dataframe\">\n",
       "  <thead>\n",
       "    <tr style=\"text-align: right;\">\n",
       "      <th></th>\n",
       "      <th>Altitude</th>\n",
       "      <th>Aroma</th>\n",
       "      <th>Flavor</th>\n",
       "      <th>Aftertaste</th>\n",
       "      <th>Acidity</th>\n",
       "      <th>Body</th>\n",
       "      <th>Balance</th>\n",
       "      <th>Uniformity</th>\n",
       "      <th>Clean Cup</th>\n",
       "      <th>Sweetness</th>\n",
       "      <th>Overall</th>\n",
       "      <th>Defects</th>\n",
       "      <th>Total Cup Points</th>\n",
       "      <th>Moisture Percentage</th>\n",
       "      <th>Category One Defects</th>\n",
       "      <th>Quakers</th>\n",
       "      <th>Category Two Defects</th>\n",
       "    </tr>\n",
       "  </thead>\n",
       "  <tbody>\n",
       "    <tr>\n",
       "      <th>count</th>\n",
       "      <td>194.000000</td>\n",
       "      <td>196.000000</td>\n",
       "      <td>196.000000</td>\n",
       "      <td>196.000000</td>\n",
       "      <td>196.000000</td>\n",
       "      <td>196.000000</td>\n",
       "      <td>196.000000</td>\n",
       "      <td>196.000000</td>\n",
       "      <td>196.0</td>\n",
       "      <td>196.0</td>\n",
       "      <td>196.000000</td>\n",
       "      <td>196.0</td>\n",
       "      <td>196.000000</td>\n",
       "      <td>196.000000</td>\n",
       "      <td>196.000000</td>\n",
       "      <td>196.000000</td>\n",
       "      <td>196.000000</td>\n",
       "    </tr>\n",
       "    <tr>\n",
       "      <th>mean</th>\n",
       "      <td>1298.373711</td>\n",
       "      <td>7.722806</td>\n",
       "      <td>7.748673</td>\n",
       "      <td>7.602755</td>\n",
       "      <td>7.690357</td>\n",
       "      <td>7.645816</td>\n",
       "      <td>7.647908</td>\n",
       "      <td>9.989796</td>\n",
       "      <td>10.0</td>\n",
       "      <td>10.0</td>\n",
       "      <td>7.679490</td>\n",
       "      <td>0.0</td>\n",
       "      <td>83.726224</td>\n",
       "      <td>10.694898</td>\n",
       "      <td>0.127551</td>\n",
       "      <td>0.688776</td>\n",
       "      <td>2.260204</td>\n",
       "    </tr>\n",
       "    <tr>\n",
       "      <th>std</th>\n",
       "      <td>681.049438</td>\n",
       "      <td>0.290239</td>\n",
       "      <td>0.278657</td>\n",
       "      <td>0.276798</td>\n",
       "      <td>0.258216</td>\n",
       "      <td>0.230840</td>\n",
       "      <td>0.257131</td>\n",
       "      <td>0.106154</td>\n",
       "      <td>0.0</td>\n",
       "      <td>0.0</td>\n",
       "      <td>0.308274</td>\n",
       "      <td>0.0</td>\n",
       "      <td>1.728620</td>\n",
       "      <td>1.259863</td>\n",
       "      <td>0.589703</td>\n",
       "      <td>1.718699</td>\n",
       "      <td>2.976601</td>\n",
       "    </tr>\n",
       "    <tr>\n",
       "      <th>min</th>\n",
       "      <td>139.000000</td>\n",
       "      <td>6.500000</td>\n",
       "      <td>6.750000</td>\n",
       "      <td>6.670000</td>\n",
       "      <td>6.830000</td>\n",
       "      <td>6.830000</td>\n",
       "      <td>6.670000</td>\n",
       "      <td>8.670000</td>\n",
       "      <td>10.0</td>\n",
       "      <td>10.0</td>\n",
       "      <td>6.670000</td>\n",
       "      <td>0.0</td>\n",
       "      <td>78.000000</td>\n",
       "      <td>0.000000</td>\n",
       "      <td>0.000000</td>\n",
       "      <td>0.000000</td>\n",
       "      <td>0.000000</td>\n",
       "    </tr>\n",
       "    <tr>\n",
       "      <th>25%</th>\n",
       "      <td>1000.000000</td>\n",
       "      <td>7.580000</td>\n",
       "      <td>7.580000</td>\n",
       "      <td>7.420000</td>\n",
       "      <td>7.500000</td>\n",
       "      <td>7.500000</td>\n",
       "      <td>7.500000</td>\n",
       "      <td>10.000000</td>\n",
       "      <td>10.0</td>\n",
       "      <td>10.0</td>\n",
       "      <td>7.500000</td>\n",
       "      <td>0.0</td>\n",
       "      <td>82.580000</td>\n",
       "      <td>10.000000</td>\n",
       "      <td>0.000000</td>\n",
       "      <td>0.000000</td>\n",
       "      <td>0.000000</td>\n",
       "    </tr>\n",
       "    <tr>\n",
       "      <th>50%</th>\n",
       "      <td>1321.250000</td>\n",
       "      <td>7.670000</td>\n",
       "      <td>7.750000</td>\n",
       "      <td>7.580000</td>\n",
       "      <td>7.670000</td>\n",
       "      <td>7.670000</td>\n",
       "      <td>7.670000</td>\n",
       "      <td>10.000000</td>\n",
       "      <td>10.0</td>\n",
       "      <td>10.0</td>\n",
       "      <td>7.710000</td>\n",
       "      <td>0.0</td>\n",
       "      <td>83.790000</td>\n",
       "      <td>10.800000</td>\n",
       "      <td>0.000000</td>\n",
       "      <td>0.000000</td>\n",
       "      <td>1.000000</td>\n",
       "    </tr>\n",
       "    <tr>\n",
       "      <th>75%</th>\n",
       "      <td>1600.000000</td>\n",
       "      <td>7.920000</td>\n",
       "      <td>7.920000</td>\n",
       "      <td>7.750000</td>\n",
       "      <td>7.852500</td>\n",
       "      <td>7.750000</td>\n",
       "      <td>7.770000</td>\n",
       "      <td>10.000000</td>\n",
       "      <td>10.0</td>\n",
       "      <td>10.0</td>\n",
       "      <td>7.920000</td>\n",
       "      <td>0.0</td>\n",
       "      <td>84.830000</td>\n",
       "      <td>11.500000</td>\n",
       "      <td>0.000000</td>\n",
       "      <td>1.000000</td>\n",
       "      <td>3.000000</td>\n",
       "    </tr>\n",
       "    <tr>\n",
       "      <th>max</th>\n",
       "      <td>5400.000000</td>\n",
       "      <td>8.580000</td>\n",
       "      <td>8.500000</td>\n",
       "      <td>8.420000</td>\n",
       "      <td>8.580000</td>\n",
       "      <td>8.250000</td>\n",
       "      <td>8.420000</td>\n",
       "      <td>10.000000</td>\n",
       "      <td>10.0</td>\n",
       "      <td>10.0</td>\n",
       "      <td>8.580000</td>\n",
       "      <td>0.0</td>\n",
       "      <td>89.330000</td>\n",
       "      <td>13.500000</td>\n",
       "      <td>5.000000</td>\n",
       "      <td>12.000000</td>\n",
       "      <td>16.000000</td>\n",
       "    </tr>\n",
       "  </tbody>\n",
       "</table>\n",
       "</div>"
      ],
      "text/plain": [
       "          Altitude       Aroma      Flavor  Aftertaste     Acidity  \\\n",
       "count   194.000000  196.000000  196.000000  196.000000  196.000000   \n",
       "mean   1298.373711    7.722806    7.748673    7.602755    7.690357   \n",
       "std     681.049438    0.290239    0.278657    0.276798    0.258216   \n",
       "min     139.000000    6.500000    6.750000    6.670000    6.830000   \n",
       "25%    1000.000000    7.580000    7.580000    7.420000    7.500000   \n",
       "50%    1321.250000    7.670000    7.750000    7.580000    7.670000   \n",
       "75%    1600.000000    7.920000    7.920000    7.750000    7.852500   \n",
       "max    5400.000000    8.580000    8.500000    8.420000    8.580000   \n",
       "\n",
       "             Body     Balance  Uniformity  Clean Cup  Sweetness     Overall  \\\n",
       "count  196.000000  196.000000  196.000000      196.0      196.0  196.000000   \n",
       "mean     7.645816    7.647908    9.989796       10.0       10.0    7.679490   \n",
       "std      0.230840    0.257131    0.106154        0.0        0.0    0.308274   \n",
       "min      6.830000    6.670000    8.670000       10.0       10.0    6.670000   \n",
       "25%      7.500000    7.500000   10.000000       10.0       10.0    7.500000   \n",
       "50%      7.670000    7.670000   10.000000       10.0       10.0    7.710000   \n",
       "75%      7.750000    7.770000   10.000000       10.0       10.0    7.920000   \n",
       "max      8.250000    8.420000   10.000000       10.0       10.0    8.580000   \n",
       "\n",
       "       Defects  Total Cup Points  Moisture Percentage  Category One Defects  \\\n",
       "count    196.0        196.000000           196.000000            196.000000   \n",
       "mean       0.0         83.726224            10.694898              0.127551   \n",
       "std        0.0          1.728620             1.259863              0.589703   \n",
       "min        0.0         78.000000             0.000000              0.000000   \n",
       "25%        0.0         82.580000            10.000000              0.000000   \n",
       "50%        0.0         83.790000            10.800000              0.000000   \n",
       "75%        0.0         84.830000            11.500000              0.000000   \n",
       "max        0.0         89.330000            13.500000              5.000000   \n",
       "\n",
       "          Quakers  Category Two Defects  \n",
       "count  196.000000            196.000000  \n",
       "mean     0.688776              2.260204  \n",
       "std      1.718699              2.976601  \n",
       "min      0.000000              0.000000  \n",
       "25%      0.000000              0.000000  \n",
       "50%      0.000000              1.000000  \n",
       "75%      1.000000              3.000000  \n",
       "max     12.000000             16.000000  "
      ]
     },
     "execution_count": 146,
     "metadata": {},
     "output_type": "execute_result"
    }
   ],
   "source": [
    "# Descriptive statistics of numerical columns\n",
    "\n",
    "desc_stats = df_clean.describe()\n",
    "desc_stats"
   ]
  },
  {
   "cell_type": "markdown",
   "metadata": {},
   "source": [
    "### Descriptive Statistics\n",
    "\n",
    "In this cell I compute the descriptive statistics of df_clean dataframe and display them to get a quick glance over the numerical values.\n",
    "\n",
    "I found that flavor comonents range usually from 7 to 8 and that Uniformity, Clean cup and Sweetness contain only one value of 10."
   ]
  },
  {
   "cell_type": "code",
   "execution_count": 147,
   "metadata": {},
   "outputs": [
    {
     "name": "stdout",
     "output_type": "stream",
     "text": [
      "Number of outliers: Altitude                 3\n",
      "Aroma                    3\n",
      "Flavor                   3\n",
      "Aftertaste               7\n",
      "Acidity                  2\n",
      "Body                     9\n",
      "Balance                  9\n",
      "Uniformity               2\n",
      "Clean Cup                0\n",
      "Sweetness                0\n",
      "Overall                  4\n",
      "Defects                  0\n",
      "Total Cup Points         3\n",
      "Moisture Percentage      1\n",
      "Category One Defects    12\n",
      "Quakers                 15\n",
      "Category Two Defects    14\n",
      "dtype: int64\n",
      "Number of outliers after cleaning: Altitude                0\n",
      "Aroma                   0\n",
      "Flavor                  0\n",
      "Aftertaste              0\n",
      "Acidity                 0\n",
      "Body                    0\n",
      "Balance                 0\n",
      "Uniformity              0\n",
      "Clean Cup               0\n",
      "Sweetness               0\n",
      "Overall                 0\n",
      "Defects                 0\n",
      "Total Cup Points        0\n",
      "Moisture Percentage     0\n",
      "Category One Defects    0\n",
      "Quakers                 0\n",
      "Category Two Defects    0\n",
      "dtype: int64\n"
     ]
    },
    {
     "data": {
      "image/png": "[encoded data removed]",
      "text/plain": [
       "<Figure size 2000x2000 with 20 Axes>"
      ]
     },
     "metadata": {},
     "output_type": "display_data"
    }
   ],
   "source": [
    "# Save numerical columns into a separate dataframe\n",
    "numerical_values = df_clean.select_dtypes(include=[np.number])\n",
    "\n",
    "# Detect outliers using the IQR method\n",
    "Q1 = numerical_values.quantile(0.25)\n",
    "Q3 = numerical_values.quantile(0.75)\n",
    "IQR = Q3 - Q1\n",
    "\n",
    "# Define outlier bounds\n",
    "lower_limit = Q1 - 1.5 * IQR\n",
    "upper_limit = Q3 + 1.5 * IQR\n",
    "\n",
    "print(f\"Number of outliers: {((numerical_values < lower_limit) | (numerical_values > upper_limit)).sum()}\")\n",
    "\n",
    "# Capping outliers\n",
    "df_capped = numerical_values\n",
    "for col in numerical_values.columns:\n",
    "    df_capped[col] = numerical_values[col].clip(lower=lower_limit[col], upper=upper_limit[col])\n",
    "\n",
    "print(f\"Number of outliers after cleaning: {((df_capped > upper_limit) | (df_capped < lower_limit)).sum()}\")\n",
    "\n",
    "df_capped.hist(\n",
    "    figsize=(20, 20),\n",
    "    bins=20,\n",
    "    color='skyblue',\n",
    "    ec='black'\n",
    ")\n",
    "\n",
    "plt.tight_layout()\n",
    "plt.show()\n",
    "\n"
   ]
  },
  {
   "cell_type": "markdown",
   "metadata": {},
   "source": [
    "## Outlier Handling and Distribution\n",
    "\n",
    "In this cell I used the interquantile range method of detecting outliers and later capped them to maintain clean distribution.\n",
    "\n",
    "1. I isolated numerical columns from the dataset\n",
    "2. Computed interquantile range by subtracting Q1 from Q3\n",
    "3. Established upper and lower boundaries for values within +- 1.5 of interquantile range - values outside of these boundaries are considered outliers\n",
    "4. I printed the number of values outside of boundaries (outliers) for each column\n",
    "5. I capped outliers by replacing them with either lower or upper boundary, saved capped values into a new dataset.\n",
    "6. Checked again by printing outliers - none were found, capping has been succesful.\n",
    "7. From the outlier-free dataset I created histograms to check the distribution of numerical columns.\n",
    "\n",
    "Most of the columns appear to be normally distributed, although we have some with Poisson distribution (Category Two Defects) or bimodal distribution (altitude).\n",
    "\n",
    "Some columns contain only one value, such as \"Sweetness\" or \"Defects\", these will not be very useful for further analysis. Ulimately no column appears to be too skewed, therefore our outlier cleaning has been succesful."
   ]
  },
  {
   "cell_type": "code",
   "execution_count": 148,
   "metadata": {},
   "outputs": [],
   "source": [
    "non_numerical = df_clean.select_dtypes(exclude=[np.number])\n",
    "\n",
    "# Merge numerical and non-numerical dataframes\n",
    "df_clean = pd.concat([df_capped, non_numerical], axis=1)\n",
    "\n",
    "# Save cleaned dataframe\n",
    "df_clean.to_csv('df_clean.csv', index=False)\n",
    "\n"
   ]
  },
  {
   "cell_type": "markdown",
   "metadata": {},
   "source": [
    "In this cell I merged again the capped numerical columns with the non-numerical ones.\n",
    "\n",
    "I saved the cleaned dataset into a new csv file for clarity."
   ]
  },
  {
   "cell_type": "code",
   "execution_count": 149,
   "metadata": {},
   "outputs": [
    {
     "data": {
      "application/vnd.plotly.v1+json": {
       "config": {
        "plotlyServerURL": "https://plot.ly"
       },
       "data": [
        {
         "connectgaps": true,
         "fill": "toself",
         "name": "Costa Rica",
         "r": {
          "bdata": "HoXrUbheHkDsUbgeheseQOJ6FK5HIR5A7FG4HoXrHkAAAAAAANAeQClcj8L1iB5A",
          "dtype": "f8"
         },
         "theta": [
          "Aroma",
          "Flavor",
          "Aftertaste",
          "Acidity",
          "Body",
          "Balance"
         ],
         "type": "scatterpolar"
        },
        {
         "connectgaps": true,
         "fill": "toself",
         "name": "Ethiopia",
         "r": {
          "bdata": "drZUZ0t1H0B8+byXz3sfQAcod4ByBx9ACQ2G0GAIIEBH/GvEv0YfQBonknEiGR9A",
          "dtype": "f8"
         },
         "theta": [
          "Aroma",
          "Flavor",
          "Aftertaste",
          "Acidity",
          "Body",
          "Balance"
         ],
         "type": "scatterpolar"
        },
        {
         "connectgaps": true,
         "fill": "toself",
         "name": "Brazil",
         "r": {
          "bdata": "AAAAAADAHUD2KFyPwrUdQMP1KFyPYh1AzMzMzMyQHUDiehSuR7EdQFK4HoXrYR1A",
          "dtype": "f8"
         },
         "theta": [
          "Aroma",
          "Flavor",
          "Aftertaste",
          "Acidity",
          "Body",
          "Balance"
         ],
         "type": "scatterpolar"
        },
        {
         "connectgaps": true,
         "fill": "toself",
         "name": "Guatemala",
         "r": {
          "bdata": "gGq8dJPYHkADVg4tsp0fQAiBlUOLzB5AkO18PzUeH0ArhxbZzhcfQCuHFtnO9x5A",
          "dtype": "f8"
         },
         "theta": [
          "Aroma",
          "Flavor",
          "Aftertaste",
          "Acidity",
          "Body",
          "Balance"
         ],
         "type": "scatterpolar"
        },
        {
         "connectgaps": true,
         "fill": "toself",
         "name": "Mexico",
         "r": {
          "bdata": "7FG4HoWrHkDC9ShcjwIeQAAAAAAAwB1A16NwPQoXHkAUrkfhepQeQBSuR+F61B1A",
          "dtype": "f8"
         },
         "theta": [
          "Aroma",
          "Flavor",
          "Aftertaste",
          "Acidity",
          "Body",
          "Balance"
         ],
         "type": "scatterpolar"
        },
        {
         "connectgaps": true,
         "fill": "toself",
         "name": "Taiwan",
         "r": {
          "bdata": "VwQNJ3VfH0BUYIf8W3ofQOVyThSZ2h5AgfMXUs0LH0Cz0pZJyKoeQCFCQdg27B5A",
          "dtype": "f8"
         },
         "theta": [
          "Aroma",
          "Flavor",
          "Aftertaste",
          "Acidity",
          "Body",
          "Balance"
         ],
         "type": "scatterpolar"
        }
       ],
       "layout": {
        "polar": {
         "radialaxis": {
          "range": [
           7,
           8.1
          ],
          "visible": true
         }
        },
        "showlegend": true,
        "template": {
         "data": {
          "bar": [
           {
            "error_x": {
             "color": "#2a3f5f"
            },
            "error_y": {
             "color": "#2a3f5f"
            },
            "marker": {
             "line": {
              "color": "#E5ECF6",
              "width": 0.5
             },
             "pattern": {
              "fillmode": "overlay",
              "size": 10,
              "solidity": 0.2
             }
            },
            "type": "bar"
           }
          ],
          "barpolar": [
           {
            "marker": {
             "line": {
              "color": "#E5ECF6",
              "width": 0.5
             },
             "pattern": {
              "fillmode": "overlay",
              "size": 10,
              "solidity": 0.2
             }
            },
            "type": "barpolar"
           }
          ],
          "carpet": [
           {
            "aaxis": {
             "endlinecolor": "#2a3f5f",
             "gridcolor": "white",
             "linecolor": "white",
             "minorgridcolor": "white",
             "startlinecolor": "#2a3f5f"
            },
            "baxis": {
             "endlinecolor": "#2a3f5f",
             "gridcolor": "white",
             "linecolor": "white",
             "minorgridcolor": "white",
             "startlinecolor": "#2a3f5f"
            },
            "type": "carpet"
           }
          ],
          "choropleth": [
           {
            "colorbar": {
             "outlinewidth": 0,
             "ticks": ""
            },
            "type": "choropleth"
           }
          ],
          "contour": [
           {
            "colorbar": {
             "outlinewidth": 0,
             "ticks": ""
            },
            "colorscale": [
             [
              0,
              "#0d0887"
             ],
             [
              0.1111111111111111,
              "#46039f"
             ],
             [
              0.2222222222222222,
              "#7201a8"
             ],
             [
              0.3333333333333333,
              "#9c179e"
             ],
             [
              0.4444444444444444,
              "#bd3786"
             ],
             [
              0.5555555555555556,
              "#d8576b"
             ],
             [
              0.6666666666666666,
              "#ed7953"
             ],
             [
              0.7777777777777778,
              "#fb9f3a"
             ],
             [
              0.8888888888888888,
              "#fdca26"
             ],
             [
              1,
              "#f0f921"
             ]
            ],
            "type": "contour"
           }
          ],
          "contourcarpet": [
           {
            "colorbar": {
             "outlinewidth": 0,
             "ticks": ""
            },
            "type": "contourcarpet"
           }
          ],
          "heatmap": [
           {
            "colorbar": {
             "outlinewidth": 0,
             "ticks": ""
            },
            "colorscale": [
             [
              0,
              "#0d0887"
             ],
             [
              0.1111111111111111,
              "#46039f"
             ],
             [
              0.2222222222222222,
              "#7201a8"
             ],
             [
              0.3333333333333333,
              "#9c179e"
             ],
             [
              0.4444444444444444,
              "#bd3786"
             ],
             [
              0.5555555555555556,
              "#d8576b"
             ],
             [
              0.6666666666666666,
              "#ed7953"
             ],
             [
              0.7777777777777778,
              "#fb9f3a"
             ],
             [
              0.8888888888888888,
              "#fdca26"
             ],
             [
              1,
              "#f0f921"
             ]
            ],
            "type": "heatmap"
           }
          ],
          "histogram": [
           {
            "marker": {
             "pattern": {
              "fillmode": "overlay",
              "size": 10,
              "solidity": 0.2
             }
            },
            "type": "histogram"
           }
          ],
          "histogram2d": [
           {
            "colorbar": {
             "outlinewidth": 0,
             "ticks": ""
            },
            "colorscale": [
             [
              0,
              "#0d0887"
             ],
             [
              0.1111111111111111,
              "#46039f"
             ],
             [
              0.2222222222222222,
              "#7201a8"
             ],
             [
              0.3333333333333333,
              "#9c179e"
             ],
             [
              0.4444444444444444,
              "#bd3786"
             ],
             [
              0.5555555555555556,
              "#d8576b"
             ],
             [
              0.6666666666666666,
              "#ed7953"
             ],
             [
              0.7777777777777778,
              "#fb9f3a"
             ],
             [
              0.8888888888888888,
              "#fdca26"
             ],
             [
              1,
              "#f0f921"
             ]
            ],
            "type": "histogram2d"
           }
          ],
          "histogram2dcontour": [
           {
            "colorbar": {
             "outlinewidth": 0,
             "ticks": ""
            },
            "colorscale": [
             [
              0,
              "#0d0887"
             ],
             [
              0.1111111111111111,
              "#46039f"
             ],
             [
              0.2222222222222222,
              "#7201a8"
             ],
             [
              0.3333333333333333,
              "#9c179e"
             ],
             [
              0.4444444444444444,
              "#bd3786"
             ],
             [
              0.5555555555555556,
              "#d8576b"
             ],
             [
              0.6666666666666666,
              "#ed7953"
             ],
             [
              0.7777777777777778,
              "#fb9f3a"
             ],
             [
              0.8888888888888888,
              "#fdca26"
             ],
             [
              1,
              "#f0f921"
             ]
            ],
            "type": "histogram2dcontour"
           }
          ],
          "mesh3d": [
           {
            "colorbar": {
             "outlinewidth": 0,
             "ticks": ""
            },
            "type": "mesh3d"
           }
          ],
          "parcoords": [
           {
            "line": {
             "colorbar": {
              "outlinewidth": 0,
              "ticks": ""
             }
            },
            "type": "parcoords"
           }
          ],
          "pie": [
           {
            "automargin": true,
            "type": "pie"
           }
          ],
          "scatter": [
           {
            "fillpattern": {
             "fillmode": "overlay",
             "size": 10,
             "solidity": 0.2
            },
            "type": "scatter"
           }
          ],
          "scatter3d": [
           {
            "line": {
             "colorbar": {
              "outlinewidth": 0,
              "ticks": ""
             }
            },
            "marker": {
             "colorbar": {
              "outlinewidth": 0,
              "ticks": ""
             }
            },
            "type": "scatter3d"
           }
          ],
          "scattercarpet": [
           {
            "marker": {
             "colorbar": {
              "outlinewidth": 0,
              "ticks": ""
             }
            },
            "type": "scattercarpet"
           }
          ],
          "scattergeo": [
           {
            "marker": {
             "colorbar": {
              "outlinewidth": 0,
              "ticks": ""
             }
            },
            "type": "scattergeo"
           }
          ],
          "scattergl": [
           {
            "marker": {
             "colorbar": {
              "outlinewidth": 0,
              "ticks": ""
             }
            },
            "type": "scattergl"
           }
          ],
          "scattermap": [
           {
            "marker": {
             "colorbar": {
              "outlinewidth": 0,
              "ticks": ""
             }
            },
            "type": "scattermap"
           }
          ],
          "scattermapbox": [
           {
            "marker": {
             "colorbar": {
              "outlinewidth": 0,
              "ticks": ""
             }
            },
            "type": "scattermapbox"
           }
          ],
          "scatterpolar": [
           {
            "marker": {
             "colorbar": {
              "outlinewidth": 0,
              "ticks": ""
             }
            },
            "type": "scatterpolar"
           }
          ],
          "scatterpolargl": [
           {
            "marker": {
             "colorbar": {
              "outlinewidth": 0,
              "ticks": ""
             }
            },
            "type": "scatterpolargl"
           }
          ],
          "scatterternary": [
           {
            "marker": {
             "colorbar": {
              "outlinewidth": 0,
              "ticks": ""
             }
            },
            "type": "scatterternary"
           }
          ],
          "surface": [
           {
            "colorbar": {
             "outlinewidth": 0,
             "ticks": ""
            },
            "colorscale": [
             [
              0,
              "#0d0887"
             ],
             [
              0.1111111111111111,
              "#46039f"
             ],
             [
              0.2222222222222222,
              "#7201a8"
             ],
             [
              0.3333333333333333,
              "#9c179e"
             ],
             [
              0.4444444444444444,
              "#bd3786"
             ],
             [
              0.5555555555555556,
              "#d8576b"
             ],
             [
              0.6666666666666666,
              "#ed7953"
             ],
             [
              0.7777777777777778,
              "#fb9f3a"
             ],
             [
              0.8888888888888888,
              "#fdca26"
             ],
             [
              1,
              "#f0f921"
             ]
            ],
            "type": "surface"
           }
          ],
          "table": [
           {
            "cells": {
             "fill": {
              "color": "#EBF0F8"
             },
             "line": {
              "color": "white"
             }
            },
            "header": {
             "fill": {
              "color": "#C8D4E3"
             },
             "line": {
              "color": "white"
             }
            },
            "type": "table"
           }
          ]
         },
         "layout": {
          "annotationdefaults": {
           "arrowcolor": "#2a3f5f",
           "arrowhead": 0,
           "arrowwidth": 1
          },
          "autotypenumbers": "strict",
          "coloraxis": {
           "colorbar": {
            "outlinewidth": 0,
            "ticks": ""
           }
          },
          "colorscale": {
           "diverging": [
            [
             0,
             "#8e0152"
            ],
            [
             0.1,
             "#c51b7d"
            ],
            [
             0.2,
             "#de77ae"
            ],
            [
             0.3,
             "#f1b6da"
            ],
            [
             0.4,
             "#fde0ef"
            ],
            [
             0.5,
             "#f7f7f7"
            ],
            [
             0.6,
             "#e6f5d0"
            ],
            [
             0.7,
             "#b8e186"
            ],
            [
             0.8,
             "#7fbc41"
            ],
            [
             0.9,
             "#4d9221"
            ],
            [
             1,
             "#276419"
            ]
           ],
           "sequential": [
            [
             0,
             "#0d0887"
            ],
            [
             0.1111111111111111,
             "#46039f"
            ],
            [
             0.2222222222222222,
             "#7201a8"
            ],
            [
             0.3333333333333333,
             "#9c179e"
            ],
            [
             0.4444444444444444,
             "#bd3786"
            ],
            [
             0.5555555555555556,
             "#d8576b"
            ],
            [
             0.6666666666666666,
             "#ed7953"
            ],
            [
             0.7777777777777778,
             "#fb9f3a"
            ],
            [
             0.8888888888888888,
             "#fdca26"
            ],
            [
             1,
             "#f0f921"
            ]
           ],
           "sequentialminus": [
            [
             0,
             "#0d0887"
            ],
            [
             0.1111111111111111,
             "#46039f"
            ],
            [
             0.2222222222222222,
             "#7201a8"
            ],
            [
             0.3333333333333333,
             "#9c179e"
            ],
            [
             0.4444444444444444,
             "#bd3786"
            ],
            [
             0.5555555555555556,
             "#d8576b"
            ],
            [
             0.6666666666666666,
             "#ed7953"
            ],
            [
             0.7777777777777778,
             "#fb9f3a"
            ],
            [
             0.8888888888888888,
             "#fdca26"
            ],
            [
             1,
             "#f0f921"
            ]
           ]
          },
          "colorway": [
           "#636efa",
           "#EF553B",
           "#00cc96",
           "#ab63fa",
           "#FFA15A",
           "#19d3f3",
           "#FF6692",
           "#B6E880",
           "#FF97FF",
           "#FECB52"
          ],
          "font": {
           "color": "#2a3f5f"
          },
          "geo": {
           "bgcolor": "white",
           "lakecolor": "white",
           "landcolor": "#E5ECF6",
           "showlakes": true,
           "showland": true,
           "subunitcolor": "white"
          },
          "hoverlabel": {
           "align": "left"
          },
          "hovermode": "closest",
          "mapbox": {
           "style": "light"
          },
          "paper_bgcolor": "white",
          "plot_bgcolor": "#E5ECF6",
          "polar": {
           "angularaxis": {
            "gridcolor": "white",
            "linecolor": "white",
            "ticks": ""
           },
           "bgcolor": "#E5ECF6",
           "radialaxis": {
            "gridcolor": "white",
            "linecolor": "white",
            "ticks": ""
           }
          },
          "scene": {
           "xaxis": {
            "backgroundcolor": "#E5ECF6",
            "gridcolor": "white",
            "gridwidth": 2,
            "linecolor": "white",
            "showbackground": true,
            "ticks": "",
            "zerolinecolor": "white"
           },
           "yaxis": {
            "backgroundcolor": "#E5ECF6",
            "gridcolor": "white",
            "gridwidth": 2,
            "linecolor": "white",
            "showbackground": true,
            "ticks": "",
            "zerolinecolor": "white"
           },
           "zaxis": {
            "backgroundcolor": "#E5ECF6",
            "gridcolor": "white",
            "gridwidth": 2,
            "linecolor": "white",
            "showbackground": true,
            "ticks": "",
            "zerolinecolor": "white"
           }
          },
          "shapedefaults": {
           "line": {
            "color": "#2a3f5f"
           }
          },
          "ternary": {
           "aaxis": {
            "gridcolor": "white",
            "linecolor": "white",
            "ticks": ""
           },
           "baxis": {
            "gridcolor": "white",
            "linecolor": "white",
            "ticks": ""
           },
           "bgcolor": "#E5ECF6",
           "caxis": {
            "gridcolor": "white",
            "linecolor": "white",
            "ticks": ""
           }
          },
          "title": {
           "x": 0.05
          },
          "xaxis": {
           "automargin": true,
           "gridcolor": "white",
           "linecolor": "white",
           "ticks": "",
           "title": {
            "standoff": 15
           },
           "zerolinecolor": "white",
           "zerolinewidth": 2
          },
          "yaxis": {
           "automargin": true,
           "gridcolor": "white",
           "linecolor": "white",
           "ticks": "",
           "title": {
            "standoff": 15
           },
           "zerolinecolor": "white",
           "zerolinewidth": 2
          }
         }
        },
        "title": {
         "text": "Coffee Flavor Profiles by Country"
        }
       }
      }
     },
     "metadata": {},
     "output_type": "display_data"
    }
   ],
   "source": [
    "# Radar chart visualization of different flavor attributes\n",
    "\n",
    "# Fileter coffees based on country\n",
    "ethiopia_coffees = df_clean[df_clean[\"Country of Origin\"] == \"ethiopia\"]\n",
    "costarica_coffees = df_clean[df_clean[\"Country of Origin\"] == \"costa rica\"]\n",
    "brazil_coffees = df_clean[df_clean[\"Country of Origin\"] == \"brazil\"]\n",
    "guatemala_coffees = df_clean[df_clean[\"Country of Origin\"] == \"guatemala\"]\n",
    "mexico_coffees = df_clean[df_clean[\"Country of Origin\"] == \"mexico\"]\n",
    "taiwan_coffees = df_clean[df_clean[\"Country of Origin\"] == \"taiwan\"]\n",
    "\n",
    "# Calculate the mean of each flavor attribute\n",
    "ethiopia_mean = ethiopia_coffees[[\"Aroma\", \"Flavor\", \"Aftertaste\", \"Acidity\", \"Body\", \"Balance\"]].mean()\n",
    "costarica_mean = costarica_coffees[[\"Aroma\", \"Flavor\", \"Aftertaste\", \"Acidity\", \"Body\", \"Balance\"]].mean()\n",
    "brazil_mean = brazil_coffees[[\"Aroma\", \"Flavor\", \"Aftertaste\", \"Acidity\", \"Body\", \"Balance\"]].mean()\n",
    "guatemala_mean = guatemala_coffees[[\"Aroma\", \"Flavor\", \"Aftertaste\", \"Acidity\", \"Body\", \"Balance\"]].mean()\n",
    "mexico_mean = mexico_coffees[[\"Aroma\", \"Flavor\", \"Aftertaste\", \"Acidity\", \"Body\", \"Balance\"]].mean()\n",
    "taiwan_mean = taiwan_coffees[[\"Aroma\", \"Flavor\", \"Aftertaste\", \"Acidity\", \"Body\", \"Balance\"]].mean()\n",
    "\n",
    "\n",
    "\n",
    "# Create radar chart\n",
    "\n",
    "radar_chart = go.Figure()\n",
    "\n",
    "radar_chart.add_trace(\n",
    "    go.Scatterpolar(\n",
    "        r=costarica_mean.values,\n",
    "        theta=costarica_mean.index,\n",
    "        name='Costa Rica',\n",
    "        fill='toself',\n",
    "        connectgaps=True\n",
    "        \n",
    "    )\n",
    ")\n",
    "\n",
    "radar_chart.add_trace(\n",
    "    go.Scatterpolar(\n",
    "        r=ethiopia_mean.values,\n",
    "        theta=ethiopia_mean.index,\n",
    "        name='Ethiopia',\n",
    "        fill='toself',\n",
    "        connectgaps=True\n",
    "    )\n",
    ")\n",
    "\n",
    "radar_chart.add_trace(\n",
    "    go.Scatterpolar(\n",
    "        r=brazil_mean.values,\n",
    "        theta=brazil_mean.index,\n",
    "        name='Brazil',\n",
    "        fill='toself',\n",
    "        connectgaps=True\n",
    "    )\n",
    ")\n",
    "\n",
    "radar_chart.add_trace(\n",
    "    go.Scatterpolar(\n",
    "        r=guatemala_mean.values,\n",
    "        theta=guatemala_mean.index,\n",
    "        name='Guatemala',\n",
    "        fill='toself',\n",
    "        connectgaps=True\n",
    "    )\n",
    ")\n",
    "\n",
    "radar_chart.add_trace(\n",
    "    go.Scatterpolar(\n",
    "        r=mexico_mean.values,\n",
    "        theta=mexico_mean.index,\n",
    "        name='Mexico',\n",
    "        fill='toself',\n",
    "        connectgaps=True\n",
    "    )\n",
    ")\n",
    "\n",
    "radar_chart.add_trace(\n",
    "    go.Scatterpolar(\n",
    "        r=taiwan_mean.values,\n",
    "        theta=taiwan_mean.index,\n",
    "        name='Taiwan',\n",
    "        fill='toself',\n",
    "        connectgaps=True\n",
    "    )\n",
    ")\n",
    "\n",
    "\n",
    "radar_chart.update_layout(\n",
    "    polar=dict(\n",
    "        radialaxis=dict(\n",
    "            visible=True,\n",
    "            range=[7, 8.1]\n",
    "        )\n",
    "    ),\n",
    "    showlegend=True,\n",
    "    title=\"Coffee Flavor Profiles by Country\",\n",
    ")\n",
    "\n",
    "radar_chart.show()\n",
    "\n",
    "\n"
   ]
  },
  {
   "cell_type": "markdown",
   "metadata": {},
   "source": [
    "## Radar Chart Visualisation\n",
    "\n",
    "I chose to visualize different flavor attributes of coffee beans from different countries to compare their overall quality and balance. Radar chart is fitting for this usecase as it allows us to visually compare qualities of different coffee beans.\n",
    "\n",
    "Plotly Graph Objects API has this chart type already in-built + it allows for a degree of interactivity (toggle on/of different coffees).\n",
    "\n",
    "To build the chart I started filtering coffees based on their \"Country of Origin\" column. I chose 6 countries that nicely represent coffee quality for this comparison. I proceeded with selecting flavor attribute columns and computing their mean for coffees of my selected countries.\n",
    "\n",
    "Finally I initialized the chart object and populated it with data using the .add_trace() method. I also customized the chart layout using the .update_layout() method to update radius range, title and legend.\n",
    "\n",
    "### Result\n",
    "\n",
    "Resulting is a radar chart that contains 6 flavor attributes raging from 7 to 8.1. On top of this chart we can toggle coffee beans of different origin and see their average scores in these different flavor attributes. Just by viewing the area on the chart, we can estimate which beans did better on flavor tests.\n",
    "\n",
    "Ethiopian coffees seem to gain highest points in almost all categories with Guatemalan and Taiwan coffees coming in next-best."
   ]
  },
  {
   "cell_type": "code",
   "execution_count": 150,
   "metadata": {},
   "outputs": [
    {
     "name": "stdout",
     "output_type": "stream",
     "text": [
      "Country of Origin\n",
      "taiwan                          59\n",
      "guatemala                       20\n",
      "colombia                        16\n",
      "honduras                        13\n",
      "thailand                        12\n",
      "ethiopia                        11\n",
      "costa rica                       8\n",
      "brazil                           8\n",
      "el salvador                      7\n",
      "nicaragua                        6\n",
      "tanzania, united republic of     6\n",
      "united states (hawaii)           5\n",
      "mexico                           4\n",
      "vietnam                          4\n",
      "peru                             4\n",
      "uganda                           3\n",
      "laos                             3\n",
      "panama                           2\n",
      "kenya                            2\n",
      "indonesia                        1\n",
      "madagascar                       1\n",
      "myanmar                          1\n",
      "Name: count, dtype: int64\n"
     ]
    },
    {
     "data": {
      "application/vnd.plotly.v1+json": {
       "config": {
        "plotlyServerURL": "https://plot.ly"
       },
       "data": [
        {
         "lat": [
          23.69781,
          15.783471,
          4.570868,
          15.199999,
          15.870032,
          9.145,
          9.748917,
          -14.235004,
          13.794185,
          12.865416,
          -6.369028,
          19.896766,
          23.634501,
          14.058324,
          -9.189967,
          1.373333,
          19.85627,
          8.537981,
          -0.023559,
          -0.789275,
          -18.766947,
          21.913965
         ],
         "lon": [
          120.960515,
          -90.230759,
          -74.297333,
          -86.241905,
          100.992541,
          40.489673,
          -83.753428,
          -51.92528,
          -88.89653,
          -85.207229,
          34.888822,
          -155.582782,
          -102.552784,
          108.277199,
          -75.015152,
          32.290275,
          102.495496,
          -80.782127,
          37.906193,
          113.921327,
          46.869107,
          95.956223
         ],
         "marker": {
          "cmax": 60,
          "cmin": 1,
          "color": {
           "bdata": "OxQQDQwLCAgHBgYFBAQEAwMCAgEBAQ==",
           "dtype": "i1"
          },
          "colorbar": {
           "title": {
            "text": "Number of Coffees"
           }
          },
          "colorscale": [
           [
            0,
            "#440154"
           ],
           [
            0.1111111111111111,
            "#482878"
           ],
           [
            0.2222222222222222,
            "#3e4989"
           ],
           [
            0.3333333333333333,
            "#31688e"
           ],
           [
            0.4444444444444444,
            "#26828e"
           ],
           [
            0.5555555555555556,
            "#1f9e89"
           ],
           [
            0.6666666666666666,
            "#35b779"
           ],
           [
            0.7777777777777778,
            "#6ece58"
           ],
           [
            0.8888888888888888,
            "#b5de2b"
           ],
           [
            1,
            "#fde725"
           ]
          ],
          "showscale": true,
          "size": [
           295,
           100,
           80,
           65,
           60,
           55,
           40,
           40,
           35,
           30,
           30,
           25,
           20,
           20,
           20,
           15,
           15,
           10,
           10,
           5,
           5,
           5
          ],
          "sizemin": 4,
          "sizemode": "area",
          "sizeref": 0.03277777777777778
         },
         "mode": "markers",
         "text": [
          "taiwan: 59 coffees",
          "guatemala: 20 coffees",
          "colombia: 16 coffees",
          "honduras: 13 coffees",
          "thailand: 12 coffees",
          "ethiopia: 11 coffees",
          "costa rica: 8 coffees",
          "brazil: 8 coffees",
          "el salvador: 7 coffees",
          "nicaragua: 6 coffees",
          "tanzania, united republic of: 6 coffees",
          "united states (hawaii): 5 coffees",
          "mexico: 4 coffees",
          "vietnam: 4 coffees",
          "peru: 4 coffees",
          "uganda: 3 coffees",
          "laos: 3 coffees",
          "panama: 2 coffees",
          "kenya: 2 coffees",
          "indonesia: 1 coffees",
          "madagascar: 1 coffees",
          "myanmar: 1 coffees"
         ],
         "type": "scattergeo"
        }
       ],
       "layout": {
        "geo": {
         "projection": {
          "type": "equirectangular"
         },
         "scope": "world",
         "showcoastlines": true,
         "showframe": false
        },
        "height": 600,
        "template": {
         "data": {
          "bar": [
           {
            "error_x": {
             "color": "#2a3f5f"
            },
            "error_y": {
             "color": "#2a3f5f"
            },
            "marker": {
             "line": {
              "color": "#E5ECF6",
              "width": 0.5
             },
             "pattern": {
              "fillmode": "overlay",
              "size": 10,
              "solidity": 0.2
             }
            },
            "type": "bar"
           }
          ],
          "barpolar": [
           {
            "marker": {
             "line": {
              "color": "#E5ECF6",
              "width": 0.5
             },
             "pattern": {
              "fillmode": "overlay",
              "size": 10,
              "solidity": 0.2
             }
            },
            "type": "barpolar"
           }
          ],
          "carpet": [
           {
            "aaxis": {
             "endlinecolor": "#2a3f5f",
             "gridcolor": "white",
             "linecolor": "white",
             "minorgridcolor": "white",
             "startlinecolor": "#2a3f5f"
            },
            "baxis": {
             "endlinecolor": "#2a3f5f",
             "gridcolor": "white",
             "linecolor": "white",
             "minorgridcolor": "white",
             "startlinecolor": "#2a3f5f"
            },
            "type": "carpet"
           }
          ],
          "choropleth": [
           {
            "colorbar": {
             "outlinewidth": 0,
             "ticks": ""
            },
            "type": "choropleth"
           }
          ],
          "contour": [
           {
            "colorbar": {
             "outlinewidth": 0,
             "ticks": ""
            },
            "colorscale": [
             [
              0,
              "#0d0887"
             ],
             [
              0.1111111111111111,
              "#46039f"
             ],
             [
              0.2222222222222222,
              "#7201a8"
             ],
             [
              0.3333333333333333,
              "#9c179e"
             ],
             [
              0.4444444444444444,
              "#bd3786"
             ],
             [
              0.5555555555555556,
              "#d8576b"
             ],
             [
              0.6666666666666666,
              "#ed7953"
             ],
             [
              0.7777777777777778,
              "#fb9f3a"
             ],
             [
              0.8888888888888888,
              "#fdca26"
             ],
             [
              1,
              "#f0f921"
             ]
            ],
            "type": "contour"
           }
          ],
          "contourcarpet": [
           {
            "colorbar": {
             "outlinewidth": 0,
             "ticks": ""
            },
            "type": "contourcarpet"
           }
          ],
          "heatmap": [
           {
            "colorbar": {
             "outlinewidth": 0,
             "ticks": ""
            },
            "colorscale": [
             [
              0,
              "#0d0887"
             ],
             [
              0.1111111111111111,
              "#46039f"
             ],
             [
              0.2222222222222222,
              "#7201a8"
             ],
             [
              0.3333333333333333,
              "#9c179e"
             ],
             [
              0.4444444444444444,
              "#bd3786"
             ],
             [
              0.5555555555555556,
              "#d8576b"
             ],
             [
              0.6666666666666666,
              "#ed7953"
             ],
             [
              0.7777777777777778,
              "#fb9f3a"
             ],
             [
              0.8888888888888888,
              "#fdca26"
             ],
             [
              1,
              "#f0f921"
             ]
            ],
            "type": "heatmap"
           }
          ],
          "histogram": [
           {
            "marker": {
             "pattern": {
              "fillmode": "overlay",
              "size": 10,
              "solidity": 0.2
             }
            },
            "type": "histogram"
           }
          ],
          "histogram2d": [
           {
            "colorbar": {
             "outlinewidth": 0,
             "ticks": ""
            },
            "colorscale": [
             [
              0,
              "#0d0887"
             ],
             [
              0.1111111111111111,
              "#46039f"
             ],
             [
              0.2222222222222222,
              "#7201a8"
             ],
             [
              0.3333333333333333,
              "#9c179e"
             ],
             [
              0.4444444444444444,
              "#bd3786"
             ],
             [
              0.5555555555555556,
              "#d8576b"
             ],
             [
              0.6666666666666666,
              "#ed7953"
             ],
             [
              0.7777777777777778,
              "#fb9f3a"
             ],
             [
              0.8888888888888888,
              "#fdca26"
             ],
             [
              1,
              "#f0f921"
             ]
            ],
            "type": "histogram2d"
           }
          ],
          "histogram2dcontour": [
           {
            "colorbar": {
             "outlinewidth": 0,
             "ticks": ""
            },
            "colorscale": [
             [
              0,
              "#0d0887"
             ],
             [
              0.1111111111111111,
              "#46039f"
             ],
             [
              0.2222222222222222,
              "#7201a8"
             ],
             [
              0.3333333333333333,
              "#9c179e"
             ],
             [
              0.4444444444444444,
              "#bd3786"
             ],
             [
              0.5555555555555556,
              "#d8576b"
             ],
             [
              0.6666666666666666,
              "#ed7953"
             ],
             [
              0.7777777777777778,
              "#fb9f3a"
             ],
             [
              0.8888888888888888,
              "#fdca26"
             ],
             [
              1,
              "#f0f921"
             ]
            ],
            "type": "histogram2dcontour"
           }
          ],
          "mesh3d": [
           {
            "colorbar": {
             "outlinewidth": 0,
             "ticks": ""
            },
            "type": "mesh3d"
           }
          ],
          "parcoords": [
           {
            "line": {
             "colorbar": {
              "outlinewidth": 0,
              "ticks": ""
             }
            },
            "type": "parcoords"
           }
          ],
          "pie": [
           {
            "automargin": true,
            "type": "pie"
           }
          ],
          "scatter": [
           {
            "fillpattern": {
             "fillmode": "overlay",
             "size": 10,
             "solidity": 0.2
            },
            "type": "scatter"
           }
          ],
          "scatter3d": [
           {
            "line": {
             "colorbar": {
              "outlinewidth": 0,
              "ticks": ""
             }
            },
            "marker": {
             "colorbar": {
              "outlinewidth": 0,
              "ticks": ""
             }
            },
            "type": "scatter3d"
           }
          ],
          "scattercarpet": [
           {
            "marker": {
             "colorbar": {
              "outlinewidth": 0,
              "ticks": ""
             }
            },
            "type": "scattercarpet"
           }
          ],
          "scattergeo": [
           {
            "marker": {
             "colorbar": {
              "outlinewidth": 0,
              "ticks": ""
             }
            },
            "type": "scattergeo"
           }
          ],
          "scattergl": [
           {
            "marker": {
             "colorbar": {
              "outlinewidth": 0,
              "ticks": ""
             }
            },
            "type": "scattergl"
           }
          ],
          "scattermap": [
           {
            "marker": {
             "colorbar": {
              "outlinewidth": 0,
              "ticks": ""
             }
            },
            "type": "scattermap"
           }
          ],
          "scattermapbox": [
           {
            "marker": {
             "colorbar": {
              "outlinewidth": 0,
              "ticks": ""
             }
            },
            "type": "scattermapbox"
           }
          ],
          "scatterpolar": [
           {
            "marker": {
             "colorbar": {
              "outlinewidth": 0,
              "ticks": ""
             }
            },
            "type": "scatterpolar"
           }
          ],
          "scatterpolargl": [
           {
            "marker": {
             "colorbar": {
              "outlinewidth": 0,
              "ticks": ""
             }
            },
            "type": "scatterpolargl"
           }
          ],
          "scatterternary": [
           {
            "marker": {
             "colorbar": {
              "outlinewidth": 0,
              "ticks": ""
             }
            },
            "type": "scatterternary"
           }
          ],
          "surface": [
           {
            "colorbar": {
             "outlinewidth": 0,
             "ticks": ""
            },
            "colorscale": [
             [
              0,
              "#0d0887"
             ],
             [
              0.1111111111111111,
              "#46039f"
             ],
             [
              0.2222222222222222,
              "#7201a8"
             ],
             [
              0.3333333333333333,
              "#9c179e"
             ],
             [
              0.4444444444444444,
              "#bd3786"
             ],
             [
              0.5555555555555556,
              "#d8576b"
             ],
             [
              0.6666666666666666,
              "#ed7953"
             ],
             [
              0.7777777777777778,
              "#fb9f3a"
             ],
             [
              0.8888888888888888,
              "#fdca26"
             ],
             [
              1,
              "#f0f921"
             ]
            ],
            "type": "surface"
           }
          ],
          "table": [
           {
            "cells": {
             "fill": {
              "color": "#EBF0F8"
             },
             "line": {
              "color": "white"
             }
            },
            "header": {
             "fill": {
              "color": "#C8D4E3"
             },
             "line": {
              "color": "white"
             }
            },
            "type": "table"
           }
          ]
         },
         "layout": {
          "annotationdefaults": {
           "arrowcolor": "#2a3f5f",
           "arrowhead": 0,
           "arrowwidth": 1
          },
          "autotypenumbers": "strict",
          "coloraxis": {
           "colorbar": {
            "outlinewidth": 0,
            "ticks": ""
           }
          },
          "colorscale": {
           "diverging": [
            [
             0,
             "#8e0152"
            ],
            [
             0.1,
             "#c51b7d"
            ],
            [
             0.2,
             "#de77ae"
            ],
            [
             0.3,
             "#f1b6da"
            ],
            [
             0.4,
             "#fde0ef"
            ],
            [
             0.5,
             "#f7f7f7"
            ],
            [
             0.6,
             "#e6f5d0"
            ],
            [
             0.7,
             "#b8e186"
            ],
            [
             0.8,
             "#7fbc41"
            ],
            [
             0.9,
             "#4d9221"
            ],
            [
             1,
             "#276419"
            ]
           ],
           "sequential": [
            [
             0,
             "#0d0887"
            ],
            [
             0.1111111111111111,
             "#46039f"
            ],
            [
             0.2222222222222222,
             "#7201a8"
            ],
            [
             0.3333333333333333,
             "#9c179e"
            ],
            [
             0.4444444444444444,
             "#bd3786"
            ],
            [
             0.5555555555555556,
             "#d8576b"
            ],
            [
             0.6666666666666666,
             "#ed7953"
            ],
            [
             0.7777777777777778,
             "#fb9f3a"
            ],
            [
             0.8888888888888888,
             "#fdca26"
            ],
            [
             1,
             "#f0f921"
            ]
           ],
           "sequentialminus": [
            [
             0,
             "#0d0887"
            ],
            [
             0.1111111111111111,
             "#46039f"
            ],
            [
             0.2222222222222222,
             "#7201a8"
            ],
            [
             0.3333333333333333,
             "#9c179e"
            ],
            [
             0.4444444444444444,
             "#bd3786"
            ],
            [
             0.5555555555555556,
             "#d8576b"
            ],
            [
             0.6666666666666666,
             "#ed7953"
            ],
            [
             0.7777777777777778,
             "#fb9f3a"
            ],
            [
             0.8888888888888888,
             "#fdca26"
            ],
            [
             1,
             "#f0f921"
            ]
           ]
          },
          "colorway": [
           "#636efa",
           "#EF553B",
           "#00cc96",
           "#ab63fa",
           "#FFA15A",
           "#19d3f3",
           "#FF6692",
           "#B6E880",
           "#FF97FF",
           "#FECB52"
          ],
          "font": {
           "color": "#2a3f5f"
          },
          "geo": {
           "bgcolor": "white",
           "lakecolor": "white",
           "landcolor": "#E5ECF6",
           "showlakes": true,
           "showland": true,
           "subunitcolor": "white"
          },
          "hoverlabel": {
           "align": "left"
          },
          "hovermode": "closest",
          "mapbox": {
           "style": "light"
          },
          "paper_bgcolor": "white",
          "plot_bgcolor": "#E5ECF6",
          "polar": {
           "angularaxis": {
            "gridcolor": "white",
            "linecolor": "white",
            "ticks": ""
           },
           "bgcolor": "#E5ECF6",
           "radialaxis": {
            "gridcolor": "white",
            "linecolor": "white",
            "ticks": ""
           }
          },
          "scene": {
           "xaxis": {
            "backgroundcolor": "#E5ECF6",
            "gridcolor": "white",
            "gridwidth": 2,
            "linecolor": "white",
            "showbackground": true,
            "ticks": "",
            "zerolinecolor": "white"
           },
           "yaxis": {
            "backgroundcolor": "#E5ECF6",
            "gridcolor": "white",
            "gridwidth": 2,
            "linecolor": "white",
            "showbackground": true,
            "ticks": "",
            "zerolinecolor": "white"
           },
           "zaxis": {
            "backgroundcolor": "#E5ECF6",
            "gridcolor": "white",
            "gridwidth": 2,
            "linecolor": "white",
            "showbackground": true,
            "ticks": "",
            "zerolinecolor": "white"
           }
          },
          "shapedefaults": {
           "line": {
            "color": "#2a3f5f"
           }
          },
          "ternary": {
           "aaxis": {
            "gridcolor": "white",
            "linecolor": "white",
            "ticks": ""
           },
           "baxis": {
            "gridcolor": "white",
            "linecolor": "white",
            "ticks": ""
           },
           "bgcolor": "#E5ECF6",
           "caxis": {
            "gridcolor": "white",
            "linecolor": "white",
            "ticks": ""
           }
          },
          "title": {
           "x": 0.05
          },
          "xaxis": {
           "automargin": true,
           "gridcolor": "white",
           "linecolor": "white",
           "ticks": "",
           "title": {
            "standoff": 15
           },
           "zerolinecolor": "white",
           "zerolinewidth": 2
          },
          "yaxis": {
           "automargin": true,
           "gridcolor": "white",
           "linecolor": "white",
           "ticks": "",
           "title": {
            "standoff": 15
           },
           "zerolinecolor": "white",
           "zerolinewidth": 2
          }
         }
        },
        "title": {
         "text": "Coffee Samples Distribution by Country"
        },
        "width": 1000
       }
      }
     },
     "metadata": {},
     "output_type": "display_data"
    }
   ],
   "source": [
    "# Bubble map visualization of coffee producers\n",
    "\n",
    "# Get the unique countries\n",
    "countries = df_clean[\"Country of Origin\"].unique()\n",
    "\n",
    "# Calculate the number of coffees produced by each country\n",
    "country_counts = df_clean[\"Country of Origin\"].value_counts()\n",
    "\n",
    "print(country_counts)\n",
    "# Create a dictionary of country coordinates\n",
    "\n",
    "coordinates = {\n",
    "\"taiwan\": [23.69781, 120.960515],\n",
    "\"guatemala\": [15.783471, -90.230759],\n",
    "\"colombia\": [4.570868, -74.297333],\n",
    "\"honduras\": [15.199999, -86.241905],\n",
    "\"thailand\": [15.870032, 100.992541],\n",
    "\"ethiopia\": [9.145, 40.489673],\n",
    "\"costa rica\": [9.748917, -83.753428],\n",
    "\"brazil\": [-14.235004, -51.92528],\n",
    "\"el salvador\": [13.794185, -88.89653],\n",
    "\"nicaragua\": [12.865416, -85.207229],\n",
    "\"tanzania, united republic of\": [-6.369028, 34.888822],\n",
    "\"united states (hawaii)\": [19.896766, -155.582782],\n",
    "\"mexico\": [23.634501, -102.552784],\n",
    "\"vietnam\": [14.058324, 108.277199],\n",
    "\"peru\": [-9.189967, -75.015152],\n",
    "\"uganda\": [1.373333, 32.290275],\n",
    "\"laos\": [19.85627, 102.495496],\n",
    "\"panama\": [8.537981, -80.782127],\n",
    "\"kenya\": [-0.023559, 37.906193],\n",
    "\"indonesia\": [-0.789275, 113.921327],\n",
    "\"madagascar\": [-18.766947, 46.869107],\n",
    "\"myanmar\": [21.913965, 95.956223],\n",
    "}\n",
    "\n",
    "# Create lists for the map\n",
    "lats = [coordinates[country][0] for country in country_counts.index]\n",
    "lons = [coordinates[country][1] for country in country_counts.index]\n",
    "sizes = [count * 5 for count in country_counts.values]\n",
    "\n",
    "# Create the bubble map\n",
    "bubble_map = go.Figure(data=go.Scattergeo(\n",
    "    lon=lons,\n",
    "    lat=lats,\n",
    "    text=[f\"{country}: {count} coffees\" for country, count in country_counts.items()],\n",
    "    mode=\"markers\",\n",
    "    marker=dict(\n",
    "        size=sizes,\n",
    "        colorscale=\"Viridis\",\n",
    "        color=country_counts.values,\n",
    "        showscale=True,\n",
    "        sizemode=\"area\",\n",
    "        colorbar_title=\"Number of Coffees\",\n",
    "        sizeref=2.*max(country_counts.values)/(60**2), \n",
    "        sizemin=4, \n",
    "        cmin=1,     \n",
    "        cmax=60 \n",
    "    )\n",
    "))\n",
    "\n",
    "# Update the layout\n",
    "bubble_map.update_layout(\n",
    "    title=\"Coffee Samples Distribution by Country\",\n",
    "    geo=dict(\n",
    "        showframe=False,\n",
    "        showcoastlines=True,\n",
    "        projection_type=\"equirectangular\",\n",
    "        scope=\"world\",\n",
    "    ),\n",
    "    width=1000,\n",
    "    height=600\n",
    ")\n",
    "\n",
    "bubble_map.show()\n",
    "\n",
    "\n"
   ]
  },
  {
   "cell_type": "markdown",
   "metadata": {},
   "source": [
    "## Bubble Map Visualization\n",
    "\n",
    "In this visualization I intended to showcase the numer of coffees in the dataset based on their contry of origin but this time on a color-coded bubble map.\n",
    "\n",
    "The bubbles get bigger and change color from cooler tones to wormer based on the increasing amount of coffee samples from a country.\n",
    "\n",
    "Chart creation process:\n",
    "1. Filtered and calculated the numer of coffees from all countries.\n",
    "2. Created a dictionary of coordinates for each country of origin.\n",
    "3. Created lists of latitudes and longitudes. Calculated bubble sizes for the chart.\n",
    "4. Initialized the bubble map via plotly API.\n",
    "5. Fill in the chart properties and data.\n",
    "6. Updated the chart layout by adding title and dimensions.\n",
    "\n",
    "By viewing this chart we can estimate the coffee production intensity of each country and their representation in the dataset.\n",
    "\n",
    "We can see by far the most represented country in the dataset is Taiwan"
   ]
  },
  {
   "cell_type": "code",
   "execution_count": 151,
   "metadata": {},
   "outputs": [
    {
     "data": {
      "image/png": "[encoded data removed]",
      "text/plain": [
       "<Figure size 1000x600 with 1 Axes>"
      ]
     },
     "metadata": {},
     "output_type": "display_data"
    }
   ],
   "source": [
    "# Creating the visialization of altitude against total cup points\n",
    "\n",
    "# Create a scatter plot\n",
    "scatter_plot = plt.figure(figsize=(10, 6))\n",
    "plt.scatter(df_clean[\"Altitude\"], df_clean[\"Total Cup Points\"], color='skyblue', edgecolors='black')\n",
    "plt.xlabel(\"Altitude (m)\")\n",
    "plt.ylabel(\"Total Cup Points\")\n",
    "plt.title(\"Altitude vs Total Cup Points\")\n",
    "plt.grid(True)\n",
    "plt.show()"
   ]
  },
  {
   "cell_type": "markdown",
   "metadata": {},
   "source": [
    "## Scatterplot Visualization\n",
    "\n",
    "This simple scatterplot visualization intends to showcase the relationship between the Altitude of coffee growth and the total cup points (an aggregate metric of coffee quality).\n",
    "\n",
    "I used matplotlib scatterplot for this visualization. Column values from \"Altitude\" and \"Total Cup Points\" were passed into the chart. Layout of the chart was customized to add labels title and grid.\n",
    "\n",
    "No clear relationship is visible by plotting these two variables."
   ]
  },
  {
   "cell_type": "code",
   "execution_count": 152,
   "metadata": {},
   "outputs": [
    {
     "data": {
      "image/png": "[encoded data removed]",
      "text/plain": [
       "<Figure size 640x480 with 2 Axes>"
      ]
     },
     "metadata": {},
     "output_type": "display_data"
    }
   ],
   "source": [
    "# Processing method vs flavor attributes heatmap\n",
    "\n",
    "heatmap = sns.heatmap(df_clean.groupby(\"Processing Method\")[[\"Aroma\", \"Flavor\", \"Aftertaste\", \"Acidity\", \"Body\", \"Balance\"]].mean(), annot=True, cmap=\"coolwarm\")\n",
    "heatmap.set_title(\"Flavor Attributes by Processing Method\")\n",
    "plt.show()\n",
    "\n"
   ]
  },
  {
   "cell_type": "markdown",
   "metadata": {},
   "source": [
    "## Heatmap Visualization\n",
    "\n",
    "Another multi-variable visualization. This time I decided to compare the flavor attributed with provessing methods.\n",
    "\n",
    "I grouped the data by processing method and computed means of all flavor attributes. This data was passed into the seaborn heatmap chart.\n",
    "\n",
    "Title and labels were added to the chart. Notably the \"sami wahsed\" processing method seems to gain high scores in most flavor attributes."
   ]
  },
  {
   "cell_type": "code",
   "execution_count": 153,
   "metadata": {},
   "outputs": [
    {
     "name": "stderr",
     "output_type": "stream",
     "text": [
      "/var/folders/y4/ldlkp8h13vq4dx3xc5sbxrr00000gn/T/ipykernel_27308/1167432498.py:14: FutureWarning:\n",
      "\n",
      "\n",
      "\n",
      "Passing `palette` without assigning `hue` is deprecated and will be removed in v0.14.0. Assign the `y` variable to `hue` and set `legend=False` for the same effect.\n",
      "\n",
      "\n"
     ]
    },
    {
     "data": {
      "image/png": "[encoded data removed]",
      "text/plain": [
       "<Figure size 1200x600 with 1 Axes>"
      ]
     },
     "metadata": {},
     "output_type": "display_data"
    }
   ],
   "source": [
    "# Total cup points by country\n",
    "\n",
    "# Gather the average total cup points by country and sort them\n",
    "\n",
    "country_points = df_clean.groupby(\"Country of Origin\")[\"Total Cup Points\"].mean().reset_index()\n",
    "country_points = country_points.sort_values(\"Total Cup Points\", ascending=True)\n",
    "\n",
    "\n",
    "# Create a bar chart\n",
    "\n",
    "plt.figure(figsize=(12, 6))\n",
    "colors = sns.color_palette(\"viridis\", n_colors=len(country_points))\n",
    "\n",
    "bar_chart = sns.barplot(\n",
    "    data=country_points,\n",
    "    x=\"Total Cup Points\",\n",
    "    y=\"Country of Origin\",\n",
    "    palette=colors,\n",
    "    orient=\"h\"\n",
    ")\n",
    "\n",
    "plt.title(\"Average Total Cup Points by Country\", pad=15, fontsize=14)\n",
    "plt.xlabel(\"Total Cup Points\", fontsize=12)\n",
    "plt.ylabel(\"Country of Origin\", fontsize=12)\n",
    "plt.xlim(80, 85)\n",
    "plt.grid(True, linestyle='--', alpha=0.3)\n",
    "plt.tight_layout()\n",
    "plt.show()"
   ]
  },
  {
   "cell_type": "markdown",
   "metadata": {},
   "source": [
    "## Bar Chart Visualization\n",
    "\n",
    "This barchart illustrates the mean value of \"total cup points\" for all countries in the dataset. I started by grouping data by their country of origin and computed the mean of total cup points.\n",
    "\n",
    "This country_points dataframe was plotted on an inverted bar chart with some color coding for visual clarity. I adjusted the barchart by adding title, labels, custom limits, etc.\n",
    "\n",
    "We can see that findings of this barchart correspond with findings from the radar chart flavor attributes."
   ]
  },
  {
   "cell_type": "markdown",
   "metadata": {},
   "source": [
    "## High-Level Analysis of Results\n",
    "\n",
    "### Key Findings\n",
    "\n",
    "I found that generally coffees tend to be pretty balanced in flavour and aroma attributes. **Ethiopian coffees** seems to be generally *best in most attributes*, but are also comparatively **more acidic** than others, which may not be suitable for some people. Guatemalan coffees are also taking up the top positions with a more balanced, less acidic and more flavorful taste.\n",
    "\n",
    "Bar chart results of total cup points suggest that Ethiopian coffees are indeed the highest ranking ones, while **Brazilian coffees** (although very popular) rank the *lowest*. A suprisingly large production of coffees is located in Taiwan (the biggest in this dataset), following up with Central/South America and Africa. It seems that African production of coffee is less intense and higher in overall quality.\n",
    "\n",
    "No *statistically significant* relationship was found between **coffee quality** and the **altitude** that the beans grow in. The taste is more likely to be influenced by other factors.\n",
    "\n",
    "**Processing methods** were similar in terms of finished product flavour, although one method stood out - the *semi-washed* method. Coffees produced by this method have higher rankings among all *flavor attributes*. The *anaerobic* processing method, a kind of new and experimental approach in specialty coffee, is also ranking highly in most categories. On the other hand the \"*honey*\" processing method scored the lowest.\n",
    "\n",
    "### Customer Guide\n",
    "\n",
    "I intended this analysis as a \"*customer guide*\" to help retail decide which coffee beans are worth buying. The radar chart can help customers figure out a closely-matched coffee for their taste expectations.\n",
    "\n",
    "From customer perspective, according to coffee quality data of 2021 to 2023, the answer is **Ethiopian coffee semi-washed**. Of course the price might also be a determining factor for consumer behaviour and might be interesting for further analysis.\n",
    "\n",
    "**Guatemalan and Tanzanian coffees** also pose a great choice for those seeking high-quality beans.\n",
    "\n",
    "### Limitations\n",
    "\n",
    "This coffee quality dataset contains mostly data from **2021 to 2023**. Some countries are underrepresented, which can be due to lower production or difficult tracking. Coffee taste rankings represent *subjective opinion* of tasters. Some columns, like \"*Sweetness*\" contain only a single value (I suppose erroneous).\n",
    "\n",
    "It is important to say that the differences between coffee *flavor attributes* are not big and even Brazilian specialty coffees achieve notably high results. The scales have been adjusted in order to clearly showcase the differences between countries of origin. No roast level data were included in the dataset (possibly a determining factor).\n",
    "\n",
    "\n"
   ]
  }
 ],
 "metadata": {
  "kernelspec": {
   "display_name": "venv",
   "language": "python",
   "name": "python3"
  },
  "language_info": {
   "codemirror_mode": {
    "name": "ipython",
    "version": 3
   },
   "file_extension": ".py",
   "mimetype": "text/x-python",
   "name": "python",
   "nbconvert_exporter": "python",
   "pygments_lexer": "ipython3",
   "version": "3.13.1"
  }
 },
 "nbformat": 4,
 "nbformat_minor": 2
}
